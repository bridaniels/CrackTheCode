{
 "cells": [
  {
   "cell_type": "markdown",
   "id": "811e8aea-6027-4b6d-83e6-9301edfbbbc9",
   "metadata": {},
   "source": [
    "# 10.8 Find Duplicates\n",
    "- input = array with numbers 1 -> *n* where *n* is at most 32,000 \n",
    "    - can have duplicate entries \n",
    "    - do not know what *n* is\n",
    "- 4KB in memory -> print all duplicate elements in the array "
   ]
  },
  {
   "cell_type": "code",
   "execution_count": 1,
   "id": "4e663cd9-7d3c-4740-a21f-198c6c0cce54",
   "metadata": {},
   "outputs": [],
   "source": [
    "import unittest"
   ]
  },
  {
   "cell_type": "code",
   "execution_count": 2,
   "id": "ac2d2246-1f6d-402f-8b3a-84658ff290da",
   "metadata": {},
   "outputs": [],
   "source": [
    "def find_dupes(array):\n",
    "    bv = [0] * 512\n",
    "    dupes = []\n",
    "    \n",
    "    for n in array:\n",
    "        bit = 1 << (n%64)\n",
    "        if bv[n//64] & bit:\n",
    "            dupes.append(n)\n",
    "        else: \n",
    "            bv[n//64] |= bit\n",
    "    return dupes"
   ]
  },
  {
   "cell_type": "code",
   "execution_count": 3,
   "id": "389123e3-2d45-4a76-baeb-404a6257fcb0",
   "metadata": {},
   "outputs": [
    {
     "data": {
      "text/plain": [
       "[2, 3, 3, 55, 20002, 18, 22]"
      ]
     },
     "execution_count": 3,
     "metadata": {},
     "output_type": "execute_result"
    }
   ],
   "source": [
    "array = [1, 2, 3, 4, 55, 20000, 20001, 20002, 20003, 17, 18, 19, 20, 22, 23,\n",
    "             7, 2, 3, 3, 55, 20002, 20004, 20005, 20006, 16, 18, 22, 24, 25, 26]\n",
    "\n",
    "dupeydooz = find_dupes(array)\n",
    "dupeydooz"
   ]
  },
  {
   "cell_type": "code",
   "execution_count": 4,
   "id": "bd88f6eb-a876-4cc3-8b76-9629f290c27f",
   "metadata": {},
   "outputs": [],
   "source": [
    "class Test(unittest.TestCase):\n",
    "    def test_find_dupes(self):\n",
    "        array = [1, 2, 3, 4, 55, 20000, 20001, 20002, 20003, 17, 18, 19, 20, 22, 23,\n",
    "             7, 2, 3, 3, 55, 20002, 20004, 20005, 20006, 16, 18, 22, 24, 25, 26]\n",
    "        self.assertEqual(find_dupes(array), dupeydooz)\n"
   ]
  },
  {
   "cell_type": "code",
   "execution_count": 5,
   "id": "be650f40-ee81-4fd1-a8f1-f6105e4f1b2a",
   "metadata": {},
   "outputs": [
    {
     "name": "stderr",
     "output_type": "stream",
     "text": [
      ".\n",
      "----------------------------------------------------------------------\n",
      "Ran 1 test in 0.005s\n",
      "\n",
      "OK\n"
     ]
    }
   ],
   "source": [
    "if __name__ == '__main__':\n",
    "    unittest.main(argv=['first-arg-is-ignored'], exit=False)"
   ]
  },
  {
   "cell_type": "code",
   "execution_count": null,
   "id": "0009b9fc-da20-4348-9657-ea81f539f9a9",
   "metadata": {},
   "outputs": [],
   "source": []
  }
 ],
 "metadata": {
  "kernelspec": {
   "display_name": "Python 3",
   "language": "python",
   "name": "python3"
  },
  "language_info": {
   "codemirror_mode": {
    "name": "ipython",
    "version": 3
   },
   "file_extension": ".py",
   "mimetype": "text/x-python",
   "name": "python",
   "nbconvert_exporter": "python",
   "pygments_lexer": "ipython3",
   "version": "3.8.8"
  }
 },
 "nbformat": 4,
 "nbformat_minor": 5
}
