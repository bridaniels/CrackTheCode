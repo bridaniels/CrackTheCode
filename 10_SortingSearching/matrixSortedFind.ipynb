{
 "cells": [
  {
   "cell_type": "markdown",
   "id": "09bd46a9-823e-4ede-aa9f-ef42544b327f",
   "metadata": {},
   "source": [
    "# 10.9: Given an MxN Matrix in which each row and each column is sorted in ascending order, write a method to find an element \n",
    "---"
   ]
  },
  {
   "cell_type": "markdown",
   "id": "f428da82-9892-4bc3-8685-9231daf6423d",
   "metadata": {},
   "source": [
    "### Naive Solution: Binary Search Each Row in `O(m lg n)` time \n",
    "---"
   ]
  },
  {
   "cell_type": "code",
   "execution_count": 1,
   "id": "c4c998da-b400-4b5b-a916-5c6078029b8d",
   "metadata": {},
   "outputs": [],
   "source": [
    "matrix = [[15,20,40,85],\n",
    "         [20,35,80,95],\n",
    "         [30,55,95,105],\n",
    "         [40,80,100,120]]\n",
    "target = 55"
   ]
  },
  {
   "cell_type": "markdown",
   "id": "9513fb66-456b-4767-9dea-501a4f22b7de",
   "metadata": {},
   "source": [
    "- since matrix is already sorted, first look to beginning element in each row\n",
    "    - `if matrix[x][0] > target: x += 1` aka skip over that row because the `target` is not there \n",
    "    "
   ]
  },
  {
   "cell_type": "code",
   "execution_count": null,
   "id": "d4c07aa0-7257-4caf-bba8-9792edafd7aa",
   "metadata": {},
   "outputs": [],
   "source": []
  }
 ],
 "metadata": {
  "kernelspec": {
   "display_name": "Python 3",
   "language": "python",
   "name": "python3"
  },
  "language_info": {
   "codemirror_mode": {
    "name": "ipython",
    "version": 3
   },
   "file_extension": ".py",
   "mimetype": "text/x-python",
   "name": "python",
   "nbconvert_exporter": "python",
   "pygments_lexer": "ipython3",
   "version": "3.8.8"
  }
 },
 "nbformat": 4,
 "nbformat_minor": 5
}
