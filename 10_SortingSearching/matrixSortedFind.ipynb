{
 "cells": [
  {
   "cell_type": "markdown",
   "id": "09bd46a9-823e-4ede-aa9f-ef42544b327f",
   "metadata": {},
   "source": [
    "# 10.9: Given an MxN Matrix in which each row and each column is sorted in ascending order, write a method to find an element \n",
    "---"
   ]
  },
  {
   "cell_type": "code",
   "execution_count": 1,
   "id": "c291e3c8-c4e0-438e-b0c6-9518df6c7a4b",
   "metadata": {},
   "outputs": [],
   "source": [
    "from typing import List"
   ]
  },
  {
   "cell_type": "code",
   "execution_count": 2,
   "id": "c4c998da-b400-4b5b-a916-5c6078029b8d",
   "metadata": {},
   "outputs": [],
   "source": [
    "matrix = [[15,20,40,85],\n",
    "         [20,35,80,95],\n",
    "         [30,55,95,105],\n",
    "         [40,80,100,120]]\n",
    "target = 55"
   ]
  },
  {
   "cell_type": "markdown",
   "id": "f428da82-9892-4bc3-8685-9231daf6423d",
   "metadata": {},
   "source": [
    "## Naive Solution: Binary Search Each Row in `O(m lg n)` time \n",
    "---"
   ]
  },
  {
   "cell_type": "markdown",
   "id": "9513fb66-456b-4767-9dea-501a4f22b7de",
   "metadata": {},
   "source": [
    "- since matrix is already sorted, first look to beginning element in each row\n",
    "    - `if matrix[x][0] > target: x += 1` aka skip over that **column** and columns to the right because the `target` is not there \n",
    "    - if start of a column is greater than `x` -> look left \n",
    "    - same logic for rows -> but move upwards \n",
    "\n",
    "> 1. if column head GREATER THAN x, x is LEFT of the column \n",
    "> 2. if end of a column is LESS THAN x, x is RIGHT of the column \n",
    "> 3. if row head is GREATER THAN x, x is ABOVE that row  \n",
    "> 4. if end of a row is LESS THAN x, x is BELOW that row \n",
    "\n",
    "- start with greatest column and work our way left \n",
    "    - first element for coparison is `array[0][c-1]`"
   ]
  },
  {
   "cell_type": "code",
   "execution_count": 3,
   "id": "d4c07aa0-7257-4caf-bba8-9792edafd7aa",
   "metadata": {},
   "outputs": [],
   "source": [
    "def naive_search(matrix: List[List[int]], target: int) -> bool: \n",
    "    row = 0 \n",
    "    col = len(matrix[0])-1\n",
    "    \n",
    "    while row < len(matrix) and col >= 0:\n",
    "        if matrix[row][col] == target:\n",
    "            return True\n",
    "        elif matrix[row][col] > target: \n",
    "            col -= 1\n",
    "        else: \n",
    "            row += 1\n",
    "    return False"
   ]
  },
  {
   "cell_type": "code",
   "execution_count": 4,
   "id": "6093bd28-a48f-4766-ab3d-8a83372fab00",
   "metadata": {},
   "outputs": [
    {
     "data": {
      "text/plain": [
       "True"
      ]
     },
     "execution_count": 4,
     "metadata": {},
     "output_type": "execute_result"
    }
   ],
   "source": [
    "naive_search(matrix,target)"
   ]
  },
  {
   "cell_type": "markdown",
   "id": "cab2cfcf-eb77-49b9-8c32-10ce05c11066",
   "metadata": {},
   "source": [
    "## Binary Search\n",
    "---"
   ]
  },
  {
   "cell_type": "markdown",
   "id": "32e601ed-ec8d-4cc2-ba13-405321ab1a7b",
   "metadata": {},
   "source": [
    "- leverage sorting property to make it more efficient \n",
    "- we know that lower numbers top left and bigger numbers in bottom right "
   ]
  },
  {
   "cell_type": "code",
   "execution_count": 5,
   "id": "f607885d-a16a-4ce8-b0b2-a6927f2b1f99",
   "metadata": {},
   "outputs": [],
   "source": [
    "# different kind of sorted matrix here \n",
    "\n",
    "matrix = [[1,3,5,7],\n",
    "         [10,11,16,20],\n",
    "         [23,30,34,50]]\n",
    "target = 11"
   ]
  },
  {
   "cell_type": "code",
   "execution_count": 6,
   "id": "e309f1a9-fb19-486e-af82-b83ebe6ee1c8",
   "metadata": {},
   "outputs": [],
   "source": [
    "def binary_search(matrix: List[List[int]], target: int) -> bool: \n",
    "    \n",
    "    m = len(matrix)\n",
    "    if m == 0:\n",
    "        return False\n",
    "    n = len(matrix[0])\n",
    "    \n",
    "    low = 0 \n",
    "    high = m*n-1\n",
    "    \n",
    "    while low <= high: \n",
    "        mid = low+(high-low)//2\n",
    "        # row = index // n\n",
    "        # col = index % n\n",
    "        val = matrix[mid//n][mid%n]\n",
    "        \n",
    "        if val == target: \n",
    "            return True\n",
    "        elif val < target: \n",
    "            low = mid+1\n",
    "        else: \n",
    "            high = mid-1\n",
    "    return False        "
   ]
  },
  {
   "cell_type": "code",
   "execution_count": 7,
   "id": "04b73885-0e39-49f3-bb3b-8c68701262fb",
   "metadata": {},
   "outputs": [
    {
     "data": {
      "text/plain": [
       "True"
      ]
     },
     "execution_count": 7,
     "metadata": {},
     "output_type": "execute_result"
    }
   ],
   "source": [
    "binary_search(matrix,target)"
   ]
  },
  {
   "cell_type": "markdown",
   "id": "e488328d-97d6-42dd-b4f5-2c6c7515c7bc",
   "metadata": {},
   "source": [
    "##### Time Complexity: `O(log mn)` \n",
    "- standard binary search "
   ]
  }
 ],
 "metadata": {
  "kernelspec": {
   "display_name": "Python 3",
   "language": "python",
   "name": "python3"
  },
  "language_info": {
   "codemirror_mode": {
    "name": "ipython",
    "version": 3
   },
   "file_extension": ".py",
   "mimetype": "text/x-python",
   "name": "python",
   "nbconvert_exporter": "python",
   "pygments_lexer": "ipython3",
   "version": "3.8.8"
  }
 },
 "nbformat": 4,
 "nbformat_minor": 5
}
