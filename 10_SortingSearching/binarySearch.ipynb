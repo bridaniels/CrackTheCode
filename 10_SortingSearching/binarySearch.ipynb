{
 "cells": [
  {
   "cell_type": "markdown",
   "id": "22bb4c27-b7d0-4d95-aac1-7bb1caa736af",
   "metadata": {},
   "source": [
    "# Searching Algorithms: Binary Search \n",
    "- look for element `x` in a sorted array by first comparing `x` to the midpoint of the array\n",
    "- `x < midpoint`: search left\n",
    "- `x > midpoint`: search right "
   ]
  },
  {
   "cell_type": "code",
   "execution_count": 16,
   "id": "e28d1454-a81c-44b0-8bbc-e80e8da22919",
   "metadata": {},
   "outputs": [],
   "source": [
    "from typing import List\n",
    "\n",
    "def binarySearch(a: List[int], x: int) -> int:\n",
    "    \n",
    "    low = 0 \n",
    "    high = len(a) - 1\n",
    "    \n",
    "    while low <= high:\n",
    "        \n",
    "        mid = low + (high-low)//2\n",
    "        if a[mid] == x: # target\n",
    "            return mid\n",
    "        if a[mid] > x: # search left\n",
    "            high = mid - 1\n",
    "        else: # Search Right \n",
    "            low = mid + 1\n",
    "    return -1 \n"
   ]
  },
  {
   "cell_type": "code",
   "execution_count": 18,
   "id": "59ae7150-a54f-4b69-8232-10686a880b7f",
   "metadata": {},
   "outputs": [
    {
     "data": {
      "text/plain": [
       "4"
      ]
     },
     "execution_count": 18,
     "metadata": {},
     "output_type": "execute_result"
    }
   ],
   "source": [
    "array = [-1,0,3,5,9,12]\n",
    "x = 9\n",
    "binarySearch(array,x)"
   ]
  },
  {
   "cell_type": "markdown",
   "id": "a7070f4b-8afd-4823-925c-749825268e94",
   "metadata": {},
   "source": [
    "---\n",
    "### Recursive Binary Search\n",
    "---"
   ]
  },
  {
   "cell_type": "code",
   "execution_count": 19,
   "id": "ba1664ad-da42-46f1-a71b-2dba0c12d34b",
   "metadata": {},
   "outputs": [],
   "source": [
    "def bsRecursive(a: List[int], x: int, low: int, high: int) -> int:\n",
    "    \n",
    "    # base case\n",
    "    if low > high:\n",
    "        return -1\n",
    "    \n",
    "    mid = low + ((high - low)//2)\n",
    "    if a[mid] < x:\n",
    "        return bsRecursive(a,x,mid+1,high)\n",
    "    elif a[mid] > x:\n",
    "        return bsRecursive(a,x,low, mid-1)\n",
    "    else:\n",
    "        return mid "
   ]
  },
  {
   "cell_type": "code",
   "execution_count": 21,
   "id": "26a7c8d6-3095-4b01-9fec-f8f321d6773d",
   "metadata": {},
   "outputs": [
    {
     "data": {
      "text/plain": [
       "4"
      ]
     },
     "execution_count": 21,
     "metadata": {},
     "output_type": "execute_result"
    }
   ],
   "source": [
    "bsRecursive(array,x,0,len(array)-1)"
   ]
  },
  {
   "cell_type": "code",
   "execution_count": null,
   "id": "e38bc9dc-dca8-46d7-bba2-b3aef409ceb0",
   "metadata": {},
   "outputs": [],
   "source": []
  }
 ],
 "metadata": {
  "kernelspec": {
   "display_name": "Python 3",
   "language": "python",
   "name": "python3"
  },
  "language_info": {
   "codemirror_mode": {
    "name": "ipython",
    "version": 3
   },
   "file_extension": ".py",
   "mimetype": "text/x-python",
   "name": "python",
   "nbconvert_exporter": "python",
   "pygments_lexer": "ipython3",
   "version": "3.8.8"
  }
 },
 "nbformat": 4,
 "nbformat_minor": 5
}
