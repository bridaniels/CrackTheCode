{
 "cells": [
  {
   "cell_type": "markdown",
   "id": "e497181f-31b0-4faf-b04a-7417da12c5f3",
   "metadata": {},
   "source": [
    "# Selection Sort\n",
    "#### Runtime: O(n²)\n",
    "#### Avg./Worst Case Memory: O(1)\n",
    "- find the smallest element and move it to the front \n",
    "    - swap with first element\n",
    "- find the next smallest -> swapping out until array is sorted "
   ]
  },
  {
   "cell_type": "code",
   "execution_count": null,
   "id": "97241aa7-fd2e-431b-9c11-242c7b454657",
   "metadata": {},
   "outputs": [],
   "source": []
  }
 ],
 "metadata": {
  "kernelspec": {
   "display_name": "Python 3",
   "language": "python",
   "name": "python3"
  },
  "language_info": {
   "codemirror_mode": {
    "name": "ipython",
    "version": 3
   },
   "file_extension": ".py",
   "mimetype": "text/x-python",
   "name": "python",
   "nbconvert_exporter": "python",
   "pygments_lexer": "ipython3",
   "version": "3.8.8"
  }
 },
 "nbformat": 4,
 "nbformat_minor": 5
}
