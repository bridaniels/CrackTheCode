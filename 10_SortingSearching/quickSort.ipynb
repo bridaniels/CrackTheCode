{
 "cells": [
  {
   "cell_type": "markdown",
   "id": "9e76c85e-7f40-476f-8ab0-8895157b247c",
   "metadata": {},
   "source": [
    "# Quick Sort\n",
    "#### Runtime Average: `O(n log(n))`\n",
    "#### Runtime Worse Case: `O(n²)`\n",
    "#### Memory: `O(log(n))`\n",
    "- pick a random element in the array and partition it \n",
    "- all numbers less than the pivot come before all elements greater than it \n",
    "- partitioning through swaps \n",
    "- pivot index not guaranteed to be the median -> thus `O(n²)` worst case runtime"
   ]
  },
  {
   "cell_type": "code",
   "execution_count": 8,
   "id": "b214ca47-c37e-430a-b9d7-d040205d99f0",
   "metadata": {},
   "outputs": [],
   "source": [
    "from typing import List\n",
    "\n",
    "def quickSort(arr: List[int], left: int, right: int) -> int:\n",
    "    \n",
    "    idx = partition(arr,left,right)\n",
    "    if left < idx-1:\n",
    "        quickSort(arr,left,idx-1)\n",
    "    if idx < right:\n",
    "        quickSort(arr,idx,right)\n",
    "    return arr\n",
    "\n",
    "def partition(arr: List[int], left: int, right: int) -> int:\n",
    "    pivot = arr[left + (right-left)//2]\n",
    "    while left <= right:\n",
    "        while arr[left] < pivot:\n",
    "            left += 1\n",
    "        while arr[right] > pivot:\n",
    "            right -= 1\n",
    "            \n",
    "        if left <= right:\n",
    "            arr[left],arr[right] = arr[right],arr[left]\n",
    "            left += 1\n",
    "            right -= 1\n",
    "    return left"
   ]
  },
  {
   "cell_type": "code",
   "execution_count": 9,
   "id": "f1be63e9-4caf-4030-a60d-0c80e60aaa4e",
   "metadata": {},
   "outputs": [
    {
     "data": {
      "text/plain": [
       "[1, 2, 2, 4, 5, 5, 6, 7, 8, 8]"
      ]
     },
     "execution_count": 9,
     "metadata": {},
     "output_type": "execute_result"
    }
   ],
   "source": [
    "array = [2,6,5,8,1,2,4,5,8,7]\n",
    "\n",
    "quickSort(array,0,len(array)-1)"
   ]
  },
  {
   "cell_type": "code",
   "execution_count": null,
   "id": "d5961144-37af-45e0-9886-7d297f2527f2",
   "metadata": {},
   "outputs": [],
   "source": []
  }
 ],
 "metadata": {
  "kernelspec": {
   "display_name": "Python 3",
   "language": "python",
   "name": "python3"
  },
  "language_info": {
   "codemirror_mode": {
    "name": "ipython",
    "version": 3
   },
   "file_extension": ".py",
   "mimetype": "text/x-python",
   "name": "python",
   "nbconvert_exporter": "python",
   "pygments_lexer": "ipython3",
   "version": "3.8.8"
  }
 },
 "nbformat": 4,
 "nbformat_minor": 5
}
