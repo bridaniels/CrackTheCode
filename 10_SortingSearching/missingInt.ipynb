{
 "cells": [
  {
   "cell_type": "markdown",
   "id": "34eefcad-5e0a-48c7-bcbc-3cfb8f4b2bf2",
   "metadata": {},
   "source": [
    "# **Missing Int.**\n",
    "- input = file with 4 billion non-negative integers \n",
    "- output = generate integer not contained in the file \n",
    "- 1 GB of memory for the task = **8 Billion Bits**\n",
    "    - can map all integers to a distinct bit with avaliable memory"
   ]
  },
  {
   "cell_type": "markdown",
   "id": "7c094dab-b511-47b7-9dd6-1736ca0acdcc",
   "metadata": {},
   "source": [
    "---\n",
    "### Bit Vector (BV)\n",
    "---"
   ]
  },
  {
   "cell_type": "markdown",
   "id": "c34ccb03-930b-420c-b7a2-5459dfd98e22",
   "metadata": {},
   "source": [
    "1. Create a *bit vector (BV)* with *2 billion bits*\n",
    "    - Bit Vector: Array compactly storing boolean values using array on ints\n",
    "        - each int represents 32 boolean values \n",
    "2. Initialize *BV* with 0's\n",
    "3. Scan numbers(num) from the file and call `BV.set(num,1)`\n",
    "4. Scan *BV* again from 0th index\n",
    "5. Return first index with value of 0 "
   ]
  },
  {
   "cell_type": "code",
   "execution_count": 1,
   "id": "8dd1d4ee-10ff-4691-9608-e0c5741cfc32",
   "metadata": {},
   "outputs": [],
   "source": [
    "import random \n",
    "import unittest"
   ]
  },
  {
   "cell_type": "code",
   "execution_count": 2,
   "id": "3d57f8d3-5e3f-4628-85b9-c680418581a1",
   "metadata": {},
   "outputs": [],
   "source": [
    "def missing_int(integer_list): \n",
    "    # bitwise leftshift operator \n",
    "    # 1<<64 is equivalent to 1*2^64 -> 64-bit \n",
    "    guess = random.randint(0, (1<<64) - 1)\n",
    "    for integer in integer_list:\n",
    "        if integer == guess:\n",
    "            return missing_int(integer_list)\n",
    "    return guess "
   ]
  },
  {
   "cell_type": "code",
   "execution_count": 3,
   "id": "e29877ec-b6b0-4a58-a0dd-48ea0c131cef",
   "metadata": {},
   "outputs": [],
   "source": [
    "class Test(unittest.TestCase):\n",
    "    def test_missing_int(self):\n",
    "        integer_list = [400, 438, 998098093, 171, 10003]\n",
    "        integer = missing_int(integer_list)\n",
    "        self.assertFalse(integer in integer_list)"
   ]
  },
  {
   "cell_type": "code",
   "execution_count": 4,
   "id": "68a36e50-60d0-4da5-a544-56f5886ba9b4",
   "metadata": {},
   "outputs": [
    {
     "name": "stderr",
     "output_type": "stream",
     "text": [
      ".\n",
      "----------------------------------------------------------------------\n",
      "Ran 1 test in 0.001s\n",
      "\n",
      "OK\n"
     ]
    }
   ],
   "source": [
    "if __name__ == \"__main__\":\n",
    "    unittest.main(argv=['first-arg-is-ignored'], exit=False)"
   ]
  },
  {
   "cell_type": "markdown",
   "id": "fcd229a8-6501-4b7e-ab6a-a2a5883371b9",
   "metadata": {},
   "source": [
    "---\n",
    "### BIT VECTOR\n",
    "---"
   ]
  },
  {
   "cell_type": "code",
   "execution_count": null,
   "id": "86e30f5b-48e2-47e4-99f5-a8c26b597d16",
   "metadata": {},
   "outputs": [],
   "source": []
  }
 ],
 "metadata": {
  "kernelspec": {
   "display_name": "Python 3",
   "language": "python",
   "name": "python3"
  },
  "language_info": {
   "codemirror_mode": {
    "name": "ipython",
    "version": 3
   },
   "file_extension": ".py",
   "mimetype": "text/x-python",
   "name": "python",
   "nbconvert_exporter": "python",
   "pygments_lexer": "ipython3",
   "version": "3.8.8"
  }
 },
 "nbformat": 4,
 "nbformat_minor": 5
}
