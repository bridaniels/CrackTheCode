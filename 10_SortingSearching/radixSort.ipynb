{
 "cells": [
  {
   "cell_type": "markdown",
   "id": "e497181f-31b0-4faf-b04a-7417da12c5f3",
   "metadata": {},
   "source": [
    "# Radix Sort\n",
    "#### Runtime: `O(kn)`\n",
    "- Take advantage of integers having a finite number of bits \n",
    "- iterate through each digit of the number\n",
    "    - first grouping numbers by each digit \n",
    "    - group all the 0's togethers, then group all the 1's together \n",
    "    - repeat the process until entire array is sorted \n",
    "- `O(kn)` where n = elements and k = number of passes through sorting algo\n",
    "- digit by digit sort starting from least significant to the most significant \n",
    "- uses counting sort as a subroutine "
   ]
  },
  {
   "cell_type": "code",
   "execution_count": 8,
   "id": "97241aa7-fd2e-431b-9c11-242c7b454657",
   "metadata": {},
   "outputs": [],
   "source": [
    "from typing import List\n",
    "\n",
    "# Linear time sorting algorithm -> elements range from 1 -> k\n",
    "# O(n+k) time \n",
    "def countingSort(arr: List[int], exp1: int) -> List[int]:\n",
    "    \n",
    "    n = len(arr)\n",
    "    output = [0] * n\n",
    "    count = [0] * 10 \n",
    "    \n",
    "    # store count of occrences \n",
    "    for i in range(0,n):\n",
    "        # get down to 1s place -> then 10s place -> then 100s place\n",
    "        idx = arr[i]/exp1\n",
    "        count[int((idx)%10)] += 1\n",
    "    \n",
    "    # reindex count  \n",
    "    for i in range(1,10):\n",
    "        count[i] += count[i-1]\n",
    "        \n",
    "    # build output aray \n",
    "    i = n-1\n",
    "    while i >= 0:\n",
    "        idx = arr[i]/exp1\n",
    "        output[count[int((idx)%10)] -1] = arr[i] \n",
    "        count[int((idx)%10)] -= 1\n",
    "        i -= 1\n",
    "    \n",
    "    i = 0 \n",
    "    for i in range(0,len(arr)):\n",
    "        arr[i] = output[i]\n",
    "        \n",
    "def radixSort(arr):\n",
    "    \n",
    "    max1 = max(arr)\n",
    "    \n",
    "    exp = 1\n",
    "    while max1/exp > 0:\n",
    "        countingSort(arr,exp)\n",
    "        exp *= 10 \n",
    "        \n",
    "    return arr"
   ]
  },
  {
   "cell_type": "code",
   "execution_count": 9,
   "id": "41e1fd5a-7ab8-461f-b40a-ed5c1506eb4c",
   "metadata": {},
   "outputs": [
    {
     "data": {
      "text/plain": [
       "[2, 24, 45, 66, 75, 90, 170, 802]"
      ]
     },
     "execution_count": 9,
     "metadata": {},
     "output_type": "execute_result"
    }
   ],
   "source": [
    "arr = [ 170, 45, 75, 90, 802, 24, 2, 66]\n",
    "\n",
    "radixSort(arr)"
   ]
  },
  {
   "cell_type": "code",
   "execution_count": null,
   "id": "a82aa4c5-6059-47f2-be5b-f820846a5dda",
   "metadata": {},
   "outputs": [],
   "source": []
  }
 ],
 "metadata": {
  "kernelspec": {
   "display_name": "Python 3",
   "language": "python",
   "name": "python3"
  },
  "language_info": {
   "codemirror_mode": {
    "name": "ipython",
    "version": 3
   },
   "file_extension": ".py",
   "mimetype": "text/x-python",
   "name": "python",
   "nbconvert_exporter": "python",
   "pygments_lexer": "ipython3",
   "version": "3.8.8"
  }
 },
 "nbformat": 4,
 "nbformat_minor": 5
}
