{
 "cells": [
  {
   "cell_type": "markdown",
   "id": "9e76c85e-7f40-476f-8ab0-8895157b247c",
   "metadata": {},
   "source": [
    "# Bubble Sort\n",
    "#### Runtime O(n²)\n",
    "#### Avg./Worst Case Memory: O(1)\n",
    "- start at beginning of the array and swap the first two elements if first > second\n",
    "- move down the array until it is sorted"
   ]
  },
  {
   "cell_type": "code",
   "execution_count": null,
   "id": "b214ca47-c37e-430a-b9d7-d040205d99f0",
   "metadata": {},
   "outputs": [],
   "source": []
  }
 ],
 "metadata": {
  "kernelspec": {
   "display_name": "Python 3",
   "language": "python",
   "name": "python3"
  },
  "language_info": {
   "codemirror_mode": {
    "name": "ipython",
    "version": 3
   },
   "file_extension": ".py",
   "mimetype": "text/x-python",
   "name": "python",
   "nbconvert_exporter": "python",
   "pygments_lexer": "ipython3",
   "version": "3.8.8"
  }
 },
 "nbformat": 4,
 "nbformat_minor": 5
}
