{
 "cells": [
  {
   "cell_type": "markdown",
   "id": "a6afa4ce-23ff-400b-91fe-7caecacd1986",
   "metadata": {},
   "source": [
    "# Chapter 10: Sorting and Searching \n",
    "### Interview Questions\n",
    "---"
   ]
  },
  {
   "cell_type": "code",
   "execution_count": 1,
   "id": "9a7a55cb-b6cf-498b-ab43-eea86414e01e",
   "metadata": {},
   "outputs": [],
   "source": [
    "from typing import List\n",
    "from collections import defaultdict\n",
    "from itertools import groupby"
   ]
  },
  {
   "cell_type": "markdown",
   "id": "6e2bd5c9-8cd3-4cf4-9b9e-e384b6306714",
   "metadata": {},
   "source": [
    "---\n",
    "## 10.1 Sorted Merge\n",
    "- input: two sorted arrays\n",
    "    - `A` = large enough buffer at end to hold `B`\n",
    "- merge `B` into `A` in sorted order"
   ]
  },
  {
   "cell_type": "code",
   "execution_count": 2,
   "id": "7f3130a4-7325-40d7-aa26-8ade65065ce3",
   "metadata": {},
   "outputs": [],
   "source": [
    "def mergeTwoSorted(arrA, arrB, A):\n",
    "    # two pointers\n",
    "    a,b = A-1, len(arrB)-1\n",
    "    # third pointer fills from back to front \n",
    "    insert_idx = a+b+1\n",
    "    \n",
    "    while a >= 0 and b >= 0:\n",
    "        if arrA[a] > arrB[b]:\n",
    "            arrA[insert_idx] = arrA[a]\n",
    "            a -= 1\n",
    "        else:\n",
    "            arrA[insert_idx] = arrB[b]\n",
    "            b -= 1\n",
    "        insert_idx -= 1\n",
    "    \n",
    "    # don't want double entries in first array\n",
    "    while b >= 0:\n",
    "        arrA[insert_idx] = arrB[b]\n",
    "        insert_idx -= 1\n",
    "        b -= 1\n",
    "        \n",
    "    return arrA"
   ]
  },
  {
   "cell_type": "code",
   "execution_count": 3,
   "id": "08d7e3b0-8a53-4cb8-a40e-4ae579bd2258",
   "metadata": {},
   "outputs": [],
   "source": [
    "def mergeSorted(arrA,arrB,A):\n",
    "    a,b = A-1, len(arrB)-1\n",
    "    insert_idx = a+b+1\n",
    "    while b>=0:\n",
    "        if a>=0 and arrA[a] > arrB[b]:\n",
    "            arrA[insert_idx] = arrA[a]\n",
    "            a -= 1\n",
    "        else:\n",
    "            arrA[insert_idx] = arrB[b]\n",
    "            b -= 1\n",
    "        insert_idx -= 1\n",
    "    return arrA"
   ]
  },
  {
   "cell_type": "code",
   "execution_count": 4,
   "id": "c47b197e-7488-4ac2-9f4b-54a2fae35ffa",
   "metadata": {},
   "outputs": [],
   "source": [
    "array1 = [2,5,6,18,22,45,0,0,0,0,0,0]\n",
    "array2 = [1,2,4,8,6,12]\n",
    "length1 = [2,5,6,18,22,45]\n",
    "len1 = len(length1)"
   ]
  },
  {
   "cell_type": "code",
   "execution_count": 5,
   "id": "2b5cdfb7-b956-405e-a7b0-4d7e62a0eaea",
   "metadata": {},
   "outputs": [
    {
     "data": {
      "text/plain": [
       "[1, 2, 2, 4, 5, 6, 8, 6, 12, 18, 22, 45]"
      ]
     },
     "execution_count": 5,
     "metadata": {},
     "output_type": "execute_result"
    }
   ],
   "source": [
    "# mergeTwoSorted(array1,array2,len1)\n",
    "mergeSorted(array1,array2,len1)"
   ]
  },
  {
   "cell_type": "markdown",
   "id": "c6ea900c-162c-4135-b846-16efb25bf161",
   "metadata": {},
   "source": [
    "#### Time Complexity: `O(a+b)`\n",
    "- length of two different arrays\n",
    "\n",
    "#### Space Complexity: `O(1)`\n",
    "- rewriting first array -> in place solution \n",
    "\n",
    "---"
   ]
  },
  {
   "cell_type": "markdown",
   "id": "69ff20fb-e4a8-4ce0-8cbb-b96ea5c3627b",
   "metadata": {},
   "source": [
    "## 10.2 Group Anagrams\n",
    "- write a method to sort an array of strings so anagrams are next to each other \n",
    "- Anagram: words that have the same characters but in different orders "
   ]
  },
  {
   "cell_type": "code",
   "execution_count": 6,
   "id": "f2bcee4f-ff0b-4f0b-b515-b620b83fd7f7",
   "metadata": {},
   "outputs": [],
   "source": [
    "from collections import defaultdict\n",
    "from itertools import groupby"
   ]
  },
  {
   "cell_type": "code",
   "execution_count": 7,
   "id": "794f9917-0590-4423-8870-42ec4ae82c79",
   "metadata": {},
   "outputs": [],
   "source": [
    "anagrams = ['abc','xzy','klm','zyx','kml','lmk','mlk','cab','xyz']"
   ]
  },
  {
   "cell_type": "code",
   "execution_count": 8,
   "id": "1d2ceea1-aa8c-4316-aae0-d88e932cb648",
   "metadata": {},
   "outputs": [],
   "source": [
    "def anagramDefaultDict(anagrams):\n",
    "    temp = defaultdict(list)\n",
    "    \n",
    "    for e in anagrams:\n",
    "        temp[str(sorted(e))].append(e)\n",
    "    res = list(temp.values())\n",
    "    return res"
   ]
  },
  {
   "cell_type": "code",
   "execution_count": 9,
   "id": "ae183728-ac81-44d0-8cd8-ddbd3893b23a",
   "metadata": {},
   "outputs": [
    {
     "data": {
      "text/plain": [
       "[['abc', 'cab'], ['xzy', 'zyx', 'xyz'], ['klm', 'kml', 'lmk', 'mlk']]"
      ]
     },
     "execution_count": 9,
     "metadata": {},
     "output_type": "execute_result"
    }
   ],
   "source": [
    "anagramDefaultDict(anagrams)"
   ]
  },
  {
   "cell_type": "code",
   "execution_count": 10,
   "id": "cc8402b4-201d-43bd-8bf2-6e112a89956d",
   "metadata": {},
   "outputs": [],
   "source": [
    "def anagramItertools(anagrams):\n",
    "    \n",
    "    temp = lambda anagrams: sorted(anagrams)\n",
    "    result = [list(val) for key, val in groupby(sorted(anagrams,key=temp), temp)]\n",
    "    \n",
    "    return result"
   ]
  },
  {
   "cell_type": "code",
   "execution_count": 11,
   "id": "0c07cced-2310-4476-9adf-539e168cc923",
   "metadata": {},
   "outputs": [
    {
     "data": {
      "text/plain": [
       "[['abc', 'cab'], ['klm', 'kml', 'lmk', 'mlk'], ['xzy', 'zyx', 'xyz']]"
      ]
     },
     "execution_count": 11,
     "metadata": {},
     "output_type": "execute_result"
    }
   ],
   "source": [
    "anagramItertools(anagrams)"
   ]
  },
  {
   "cell_type": "code",
   "execution_count": 12,
   "id": "32011324-5922-4388-a274-be35453114ac",
   "metadata": {},
   "outputs": [],
   "source": [
    "# Bucket Sort\n",
    "\n",
    "def anagramsSimplePython(anagrams):\n",
    "    \n",
    "    def createKey(string):\n",
    "        k = ''\n",
    "        for ch in sorted(string):\n",
    "            k += ch\n",
    "        return str(k)\n",
    "    \n",
    "    def groupWords(data):\n",
    "        group = dict()\n",
    "        for x in data:\n",
    "            if group.get(createKey(x)) == None:\n",
    "                group[createKey(x)] = [x]\n",
    "            else:\n",
    "                group[createKey(x)].append(x)\n",
    "        return group\n",
    "    \n",
    "    \n",
    "    return groupWords(anagrams)"
   ]
  },
  {
   "cell_type": "code",
   "execution_count": 13,
   "id": "becf7773-c63f-45d4-b46f-d9c82a5a75c5",
   "metadata": {},
   "outputs": [
    {
     "data": {
      "text/plain": [
       "{'abc': ['abc', 'cab'],\n",
       " 'xyz': ['xzy', 'zyx', 'xyz'],\n",
       " 'klm': ['klm', 'kml', 'lmk', 'mlk']}"
      ]
     },
     "execution_count": 13,
     "metadata": {},
     "output_type": "execute_result"
    }
   ],
   "source": [
    "anagramsSimplePython(anagrams)"
   ]
  },
  {
   "cell_type": "markdown",
   "id": "5df99d8b-0f58-427a-b81f-1a22bd70b204",
   "metadata": {},
   "source": [
    "#### Time Complexity: `O(a * s * log s)`\n",
    "- `a` = size of array\n",
    "- `s` = length of longest string \n",
    "\n",
    "#### Space Complexity: `O(a)`\n",
    "- creating new output \n",
    "\n",
    "---"
   ]
  },
  {
   "cell_type": "markdown",
   "id": "dacf7840-b48e-4df7-9da1-2ccffc120b9f",
   "metadata": {},
   "source": [
    "---\n",
    "## 10.3 Search in Rotated Array\n",
    "- input: sorted array of `n` integers rotated an unknown number of times\n",
    "- find element in the array that was sorted arround\n",
    "- array orignally sorted in increasing order\n",
    "- Binary Search\n",
    "    - compare `x` to the midpoint\n",
    "    - figure out if `x` belongs on the left or right side\n",
    "    - take into account the inflection point on shifted array\n",
    "        - find which side is normally ordered \n",
    "        - find potential duplicate entries \n",
    "    - if one half of the array is ordered, check if `x` is in the range\n",
    "        - recurse accordingly\n",
    "    - if left == middle -> search right\n",
    "    - if middle == right -> search left\n",
    "    - if both are true -> search both halves \n",
    "    "
   ]
  },
  {
   "cell_type": "code",
   "execution_count": 14,
   "id": "644a998a-6108-4c42-adde-5a3827c7c5f1",
   "metadata": {},
   "outputs": [],
   "source": [
    "array = [15,16,19,20,25,1,3,4,5,7,10,14]\n",
    "k = 5"
   ]
  },
  {
   "cell_type": "code",
   "execution_count": 15,
   "id": "be88824e-9db0-4bdb-8486-97576bb90b79",
   "metadata": {},
   "outputs": [],
   "source": [
    "class RecursiveRotatedArray:\n",
    "    \n",
    "    def binarySearch(nums,target):\n",
    "        \n",
    "        def find_r_idx(left,right):\n",
    "            if nums[left] < nums[right]:\n",
    "                return 0\n",
    "            while left<=right:\n",
    "                pivot = (left+right)//2\n",
    "                if nums[pivot] > nums[pivot+1]:\n",
    "                    return pivot + 1\n",
    "                else:\n",
    "                    if nums[pivot] < nums[left]:\n",
    "                        right = pivot - 1\n",
    "                    else:\n",
    "                        left = pivot + 1\n",
    "        \n",
    "        def search(left,right):\n",
    "            while left <= right:\n",
    "                pivot = (left + right)//2\n",
    "                if nums[pivot] == target:\n",
    "                    return pivot\n",
    "                else:\n",
    "                    if target < nums[pivot]:\n",
    "                        right = pivot - 1\n",
    "                    else:\n",
    "                        left = pivot + 1\n",
    "            return -1\n",
    "        \n",
    "\n",
    "        \n",
    "        n = len(nums)\n",
    "        \n",
    "        # base case\n",
    "        if n == 1:\n",
    "            return 0 if nums[0] == target else -1\n",
    "        \n",
    "        rotate_idx = find_r_idx(0,n-1)\n",
    "        \n",
    "        #target found -> return index\n",
    "        if nums[rotate_idx] == target:\n",
    "            return rotate_idx\n",
    "        #search entire array\n",
    "        if rotate_idx == 0:\n",
    "            return search(0,n-1)\n",
    "        #search right \n",
    "        if target < nums[0]:\n",
    "            return search(rotate_idx,n-1)\n",
    "        #search left\n",
    "        return search(0,rotate_idx)\n",
    "    "
   ]
  },
  {
   "cell_type": "code",
   "execution_count": 16,
   "id": "14574d25-be3d-48fa-9e51-e2baad604d02",
   "metadata": {},
   "outputs": [
    {
     "data": {
      "text/plain": [
       "8"
      ]
     },
     "execution_count": 16,
     "metadata": {},
     "output_type": "execute_result"
    }
   ],
   "source": [
    "rr = RecursiveRotatedArray\n",
    "rr.binarySearch(array,k)"
   ]
  },
  {
   "cell_type": "code",
   "execution_count": 17,
   "id": "2bf45684-58aa-4fb2-9b2a-4036914d086d",
   "metadata": {},
   "outputs": [],
   "source": [
    "def fasterBinarySearch(array,target):\n",
    "    \n",
    "    start, end = 0, len(array)-1\n",
    "    \n",
    "    while start <= end:\n",
    "        mid = start+(end-start) // 2\n",
    "        if array[mid] == target:\n",
    "            return mid \n",
    "        elif array[mid] >= array[start]:\n",
    "            #search left \n",
    "            if target >= array[start] and target < array[mid]:\n",
    "                end = mid - 1\n",
    "            #search right \n",
    "            else:\n",
    "                start = mid + 1\n",
    "        else:\n",
    "            #search right \n",
    "            if target <= array[end] and target > array[mid]:\n",
    "                start = mid + 1\n",
    "            #search left\n",
    "            else:\n",
    "                end = mid - 1\n",
    "    return -1 "
   ]
  },
  {
   "cell_type": "code",
   "execution_count": 18,
   "id": "94a33a8e-4481-4cb9-9eff-91b7c9a2d992",
   "metadata": {},
   "outputs": [
    {
     "data": {
      "text/plain": [
       "8"
      ]
     },
     "execution_count": 18,
     "metadata": {},
     "output_type": "execute_result"
    }
   ],
   "source": [
    "fasterBinarySearch(array,k)"
   ]
  },
  {
   "cell_type": "markdown",
   "id": "857b217a-f451-4bf6-af82-765bf95122b2",
   "metadata": {},
   "source": [
    "#### Time Complexity: `O(log N)`\n",
    "- `O(n)` max because of potential high number of duplicates\n",
    "\n",
    "#### Space Complexity: `O(1)`\n",
    "\n",
    "---"
   ]
  },
  {
   "cell_type": "code",
   "execution_count": null,
   "id": "9c8718ed-30dc-4642-aba5-2918c4cd9980",
   "metadata": {},
   "outputs": [],
   "source": []
  }
 ],
 "metadata": {
  "kernelspec": {
   "display_name": "Python 3",
   "language": "python",
   "name": "python3"
  },
  "language_info": {
   "codemirror_mode": {
    "name": "ipython",
    "version": 3
   },
   "file_extension": ".py",
   "mimetype": "text/x-python",
   "name": "python",
   "nbconvert_exporter": "python",
   "pygments_lexer": "ipython3",
   "version": "3.8.8"
  }
 },
 "nbformat": 4,
 "nbformat_minor": 5
}
