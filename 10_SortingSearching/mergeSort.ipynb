{
 "cells": [
  {
   "cell_type": "markdown",
   "id": "0aef4d9a-0eb9-43f0-8694-cc499b5427a9",
   "metadata": {},
   "source": [
    "# Merge Sort\n",
    "#### Runtime: `O(n * log(n))`\n",
    "#### Memory: `O(n)`, but dependent on algorithm \n",
    "- Divides array in half recursively until single element remains\n",
    "- Merging two single element arrays back together in the end \n",
    "- Merge does heavy lifting "
   ]
  },
  {
   "cell_type": "code",
   "execution_count": 38,
   "id": "5dbb7a36-461d-49ad-9d95-04db9db8a03a",
   "metadata": {},
   "outputs": [],
   "source": [
    "def mergeSort(arr):\n",
    "    \n",
    "    if len(arr) > 1:\n",
    "        \n",
    "        mid = len(arr)//2\n",
    "        left = arr[:mid]\n",
    "        right = arr[mid:]\n",
    "        \n",
    "        mergeSort(left)\n",
    "        mergeSort(right)\n",
    "        \n",
    "        i = j = k = 0 \n",
    "    \n",
    "        while i < len(left) and j < len(right):\n",
    "            if left[i] < right[j]:\n",
    "                arr[k] = left[i]\n",
    "                i += 1\n",
    "            else: \n",
    "                arr[k] = right[j]\n",
    "                j += 1\n",
    "            k += 1\n",
    "        \n",
    "        while i < len(left):\n",
    "            arr[k] = left[i]\n",
    "            i += 1\n",
    "            k += 1\n",
    "        while j < len(right):\n",
    "            arr[k] = right[j]\n",
    "            j += 1\n",
    "            k += 1\n",
    "    \n",
    "    return arr"
   ]
  },
  {
   "cell_type": "code",
   "execution_count": 39,
   "id": "8f5e4e38-e87e-4a93-9397-dbb0b91b7746",
   "metadata": {},
   "outputs": [],
   "source": [
    "array = [2,66,5,8,4,33,5,12,54,38]"
   ]
  },
  {
   "cell_type": "code",
   "execution_count": 40,
   "id": "8bea252f-c263-492d-9b8a-395c5615294f",
   "metadata": {},
   "outputs": [
    {
     "data": {
      "text/plain": [
       "[2, 4, 5, 5, 8, 12, 33, 38, 54, 66]"
      ]
     },
     "execution_count": 40,
     "metadata": {},
     "output_type": "execute_result"
    }
   ],
   "source": [
    "mergeSort(array)"
   ]
  },
  {
   "cell_type": "markdown",
   "id": "91d7fdd3-893a-4d8e-99e6-feb1b08e300a",
   "metadata": {},
   "source": [
    "### `O(n log(n))` Runtime \n",
    "### `O(n)` Memory -> new array consists of 2n elements -> simplifies down to `O(n)`"
   ]
  },
  {
   "cell_type": "code",
   "execution_count": null,
   "id": "d37f459d-4057-45c2-b5c9-1b2b62cd272f",
   "metadata": {},
   "outputs": [],
   "source": []
  }
 ],
 "metadata": {
  "kernelspec": {
   "display_name": "Python 3",
   "language": "python",
   "name": "python3"
  },
  "language_info": {
   "codemirror_mode": {
    "name": "ipython",
    "version": 3
   },
   "file_extension": ".py",
   "mimetype": "text/x-python",
   "name": "python",
   "nbconvert_exporter": "python",
   "pygments_lexer": "ipython3",
   "version": "3.8.8"
  }
 },
 "nbformat": 4,
 "nbformat_minor": 5
}
