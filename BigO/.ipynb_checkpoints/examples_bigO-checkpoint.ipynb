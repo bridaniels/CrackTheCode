{
 "cells": [
  {
   "cell_type": "markdown",
   "id": "a890c3ec-2222-4dba-9cc9-edb5fee08731",
   "metadata": {},
   "source": [
    "# Big O"
   ]
  },
  {
   "cell_type": "markdown",
   "id": "8b8548d2-eba0-4d1b-8c56-0d87e8ae3fd8",
   "metadata": {},
   "source": [
    "---\n",
    "### Binary Search: O(log N) Runtime\n",
    "- looking for x in N-element sorted array\n",
    "- first compare x to midpoint then move outward left/right depending on value of x\n",
    "---"
   ]
  },
  {
   "cell_type": "code",
   "execution_count": 1,
   "id": "54274bed-014b-4b5c-9ca1-4ab0ad740b4f",
   "metadata": {},
   "outputs": [],
   "source": [
    "array = [1,5,8,9,11,13,15,19,21]\n",
    "x = 9"
   ]
  },
  {
   "cell_type": "code",
   "execution_count": 2,
   "id": "f2336f51-ad08-45fd-8851-5050223dd07d",
   "metadata": {},
   "outputs": [],
   "source": [
    "def binaryRecursive(array,low,high,x):\n",
    "    \n",
    "    if high >= low:\n",
    "        \n",
    "        mid = (high+low)//2\n",
    "        \n",
    "        if array[mid] == x:\n",
    "            return mid\n",
    "        \n",
    "        elif array[mid] > x:\n",
    "            return binaryRecursive(array,low,mid-1,x)\n",
    "        \n",
    "        else:\n",
    "            return binaryRecursive(array,mid+1,high,x)\n",
    "        \n",
    "    else:\n",
    "        return -1"
   ]
  },
  {
   "cell_type": "code",
   "execution_count": 3,
   "id": "ddaab00c-cc66-4d07-ac9b-e56719b04223",
   "metadata": {},
   "outputs": [
    {
     "name": "stdout",
     "output_type": "stream",
     "text": [
      "Index of 9 in array: [1, 5, 8, 9, 11, 13, 15, 19, 21] is 3\n"
     ]
    }
   ],
   "source": [
    "x_index = binaryRecursive(array,0,len(array),x)\n",
    "\n",
    "print(f\"Index of {x} in array: {array} is {x_index}\")"
   ]
  },
  {
   "cell_type": "markdown",
   "id": "1f3e6d5e-4b15-4aab-bd31-5a5ec7c3321b",
   "metadata": {},
   "source": [
    "- number of elements in the problem space get halved each time = O(log n) runtime \n",
    "- space complexity = O(n)\n",
    "    - have O(2ᴺ) nodes in the full recursive tree \n",
    "    - only O(n) exist at any given time "
   ]
  },
  {
   "cell_type": "markdown",
   "id": "4c68484f-d301-4335-960c-5adabd6a4d1f",
   "metadata": {},
   "source": [
    "---\n",
    "### Example 1: Two Loops\n",
    "---"
   ]
  },
  {
   "cell_type": "code",
   "execution_count": 4,
   "id": "6213c4dd-88db-4989-ba15-b4a1470c73ff",
   "metadata": {},
   "outputs": [],
   "source": [
    "array = [1,5,8,9,11,13,15,19,21]\n",
    "x = 9"
   ]
  },
  {
   "cell_type": "code",
   "execution_count": 5,
   "id": "008402af-1315-4a02-aeb6-0b8981992975",
   "metadata": {},
   "outputs": [],
   "source": [
    "def doubleLoop(array,x):\n",
    "    k = x - 1\n",
    "    for i in array:\n",
    "        if i == x:\n",
    "            print(f\"HOORAY\")\n",
    "    for j in array:\n",
    "        if j == k:\n",
    "            print(f\"YEEEE\")"
   ]
  },
  {
   "cell_type": "code",
   "execution_count": 6,
   "id": "b84d3f78-7c3c-4a67-a617-0f69bc5e6e58",
   "metadata": {},
   "outputs": [
    {
     "name": "stdout",
     "output_type": "stream",
     "text": [
      "HOORAY\n",
      "YEEEE\n"
     ]
    }
   ],
   "source": [
    "doubleLoop(array,x)"
   ]
  },
  {
   "cell_type": "markdown",
   "id": "32e512ad-8137-4706-8500-4a5f26210c11",
   "metadata": {},
   "source": [
    "#### O(N) time:\n",
    "- iterating through twice does not matter\n",
    "- chunk of work in first loop + chunk of work in second loop\n",
    "- More specifically would be O(2N), but for Big O notation we drop constants which leaves us with O(N)"
   ]
  },
  {
   "cell_type": "markdown",
   "id": "2ee719d4-0b68-45ef-9ece-35e0379211bf",
   "metadata": {},
   "source": [
    "---\n",
    "### Example 2: Nested Loops\n",
    "---"
   ]
  },
  {
   "cell_type": "code",
   "execution_count": 7,
   "id": "5a07fcfb-a931-424c-82f7-b0072e6bec27",
   "metadata": {},
   "outputs": [],
   "source": [
    "array1 = [2,5,3,6,9,4,5]"
   ]
  },
  {
   "cell_type": "code",
   "execution_count": 8,
   "id": "23ead941-abfe-4e35-b649-0c96f62507c0",
   "metadata": {},
   "outputs": [],
   "source": [
    "def nestedLoop(array1):\n",
    "    for i in range(len(array1)):\n",
    "        for j in range(len(array1)):\n",
    "            if array1[i] == array1[j]:\n",
    "                return True\n",
    "    return False            "
   ]
  },
  {
   "cell_type": "code",
   "execution_count": 9,
   "id": "86723314-4ced-4db4-9297-ca26a326819f",
   "metadata": {},
   "outputs": [
    {
     "data": {
      "text/plain": [
       "True"
      ]
     },
     "execution_count": 9,
     "metadata": {},
     "output_type": "execute_result"
    }
   ],
   "source": [
    "nestedLoop(array1)"
   ]
  },
  {
   "cell_type": "markdown",
   "id": "70f53ae3-e431-430f-919a-91af70832465",
   "metadata": {},
   "source": [
    "#### O(N²)\n",
    "- inner loop has O(N) iterations\n",
    "- outerloop calls inner loop N times \n",
    "- Checking ALL PAIRS - O(N²) pairs"
   ]
  },
  {
   "cell_type": "markdown",
   "id": "f6a5d166-4a99-486e-bba5-6dd9d74c3524",
   "metadata": {},
   "source": [
    "---\n",
    "### Example 3: Nested Loops -> Inner Loop starting at i + 1\n",
    "---"
   ]
  },
  {
   "cell_type": "code",
   "execution_count": 10,
   "id": "2656a207-845d-4df6-a398-b2f075223ee2",
   "metadata": {},
   "outputs": [],
   "source": [
    "array = [2,5,3,4,9,4,5]"
   ]
  },
  {
   "cell_type": "code",
   "execution_count": 11,
   "id": "6b157b2c-4cb4-4b9d-aa04-96b65ce6c33c",
   "metadata": {},
   "outputs": [],
   "source": [
    "def nChooseTwo(array):\n",
    "    for i in range(len(array)):\n",
    "        for j in range(i+1,len(array)):\n",
    "            if array[i] == array[j]:\n",
    "                print(\"matchy\")\n",
    "            else:\n",
    "                print(\"womp womp\")\n",
    "    "
   ]
  },
  {
   "cell_type": "code",
   "execution_count": 12,
   "id": "907aef17-1bc3-4604-b1f4-7c614f722cb7",
   "metadata": {},
   "outputs": [
    {
     "name": "stdout",
     "output_type": "stream",
     "text": [
      "womp womp\n",
      "womp womp\n",
      "womp womp\n",
      "womp womp\n",
      "womp womp\n",
      "womp womp\n",
      "womp womp\n",
      "womp womp\n",
      "womp womp\n",
      "womp womp\n",
      "matchy\n",
      "womp womp\n",
      "womp womp\n",
      "womp womp\n",
      "womp womp\n",
      "womp womp\n",
      "matchy\n",
      "womp womp\n",
      "womp womp\n",
      "womp womp\n",
      "womp womp\n"
     ]
    }
   ],
   "source": [
    "nChooseTwo(array)"
   ]
  },
  {
   "cell_type": "markdown",
   "id": "88bb0be0-41f8-4ed1-b121-2828045bc9ec",
   "metadata": {},
   "source": [
    "#### O(N²)\n",
    "- Outer loop runs N times\n",
    "- Inner Loop runs N/2 times\n",
    "    - first j runs through N-1 steps, second N-2, third N-3....\n",
    "        - Sum of 1 through N-1 = ((N(N-2))/2)\n",
    "    - iterates through each pair of values where i<j\n",
    "    - N² total pairs and roughly half will follow i<j\n",
    "        - goes through roughly (N²)/2 pairs -> thus O(N²) \n",
    "        - Half of a NxN matrix \n",
    "- Total Work = O((N²)/2) -> Simplified down to O(N²)\n",
    "\n",
    "   "
   ]
  },
  {
   "cell_type": "markdown",
   "id": "375023f2-e200-49dc-b6b5-6e11519b1d60",
   "metadata": {},
   "source": [
    "---\n",
    "### Example 4: Nested Loops, Two Arrays\n",
    "---"
   ]
  },
  {
   "cell_type": "code",
   "execution_count": 13,
   "id": "8566423d-1089-4901-8cbb-3345bc327af0",
   "metadata": {},
   "outputs": [],
   "source": [
    "array1 = [2,5,3,6,9,4,5]\n",
    "array2 = [6,8,7,4,4,2,1]"
   ]
  },
  {
   "cell_type": "code",
   "execution_count": 14,
   "id": "67a1e486-b51a-4640-9df1-b65567fc716c",
   "metadata": {},
   "outputs": [],
   "source": [
    "def printUnorderedPais(arr1,arr2):\n",
    "    \n",
    "    i = j = 0 \n",
    "    for i in range(len(arr1)):\n",
    "        for j in range(len(arr2)):\n",
    "            if arr1[i] < arr2[j]: # 0(1) work due to constant time statment \n",
    "                print(f\"{arr1[i]}, {arr2[j]}\")"
   ]
  },
  {
   "cell_type": "code",
   "execution_count": 15,
   "id": "2d5b0e0a-7ef5-43fd-bec8-01734e3d26a3",
   "metadata": {},
   "outputs": [
    {
     "name": "stdout",
     "output_type": "stream",
     "text": [
      "2, 6\n",
      "2, 8\n",
      "2, 7\n",
      "2, 4\n",
      "2, 4\n",
      "5, 6\n",
      "5, 8\n",
      "5, 7\n",
      "3, 6\n",
      "3, 8\n",
      "3, 7\n",
      "3, 4\n",
      "3, 4\n",
      "6, 8\n",
      "6, 7\n",
      "4, 6\n",
      "4, 8\n",
      "4, 7\n",
      "5, 6\n",
      "5, 8\n",
      "5, 7\n"
     ]
    }
   ],
   "source": [
    "printUnorderedPais(array1,array2)"
   ]
  },
  {
   "cell_type": "markdown",
   "id": "366fb432-af71-488d-8214-a2d0e78ea801",
   "metadata": {},
   "source": [
    "### Time Complexity: `O(ab)`\n",
    "- `a` = length of array1\n",
    "- `b` = length of array2\n",
    "- for each element in array1, the inner loop goes through `b` iterations "
   ]
  },
  {
   "cell_type": "markdown",
   "id": "54a070c9-2149-4f99-98db-d01ee6193ec9",
   "metadata": {},
   "source": [
    "---\n",
    "### Example 5: Nested Loop, 2 Arrays + Constant Value Loop\n",
    "---"
   ]
  },
  {
   "cell_type": "code",
   "execution_count": 16,
   "id": "6ab9ccee-fe65-4d37-868d-cfb04555a04e",
   "metadata": {},
   "outputs": [],
   "source": [
    "array1 = [2,5,3,6,9,4,5]\n",
    "array2 = [6,8,7,4,4,2,1]"
   ]
  },
  {
   "cell_type": "code",
   "execution_count": 17,
   "id": "580e1313-110b-4c51-99b3-6436f9a4a86e",
   "metadata": {},
   "outputs": [],
   "source": [
    "def pUnorderedPairs(arr1,arr2):\n",
    "    for i in range(len(arr1)):\n",
    "        for j in range(len(arr2)):\n",
    "            for k in range(100000):\n",
    "                print(f\"{arr1[i]}, {arr2[j]}\")"
   ]
  },
  {
   "cell_type": "code",
   "execution_count": 18,
   "id": "ddea07b0-89d1-4d8c-b95c-bbad19f16ac5",
   "metadata": {
    "scrolled": true,
    "tags": []
   },
   "outputs": [],
   "source": [
    "# prints out 100,000 of each pair \n",
    "\n",
    "# pUnorderedPairs(array1,array2)"
   ]
  },
  {
   "cell_type": "markdown",
   "id": "9960701a-45ff-40d0-8f0f-e7e1faadc322",
   "metadata": {},
   "source": [
    "### Time Complexity: `O(ab)` *still*\n",
    "- 100,000 units of work is still a constant "
   ]
  },
  {
   "cell_type": "markdown",
   "id": "34ad7f41-d7a7-410e-9458-01a48aed721c",
   "metadata": {},
   "source": [
    "---\n",
    "### Example 6: Reverse Array\n",
    "---"
   ]
  },
  {
   "cell_type": "code",
   "execution_count": 19,
   "id": "b7f404ff-7fa8-430e-ae9a-c5a4845e7fbd",
   "metadata": {},
   "outputs": [],
   "source": [
    "array1 = [2,5,3,6,9,4,5]"
   ]
  },
  {
   "cell_type": "code",
   "execution_count": 20,
   "id": "d9b55a9a-af56-47b6-a578-3a652f96b0ac",
   "metadata": {},
   "outputs": [],
   "source": [
    "def reverse_array(arr1):\n",
    "    for i in range(len(arr1)//2):\n",
    "        other = len(arr1) - i - 1\n",
    "        temp = arr1[i]\n",
    "        arr1[i] = arr1[other]\n",
    "        arr1[other] = temp"
   ]
  },
  {
   "cell_type": "code",
   "execution_count": 21,
   "id": "28de32ea-948e-497a-85b8-bc46c333ea71",
   "metadata": {},
   "outputs": [],
   "source": [
    "reverse_array(array1)"
   ]
  },
  {
   "cell_type": "code",
   "execution_count": 22,
   "id": "279802dd-46cb-44f2-865e-98263c320eb5",
   "metadata": {},
   "outputs": [
    {
     "data": {
      "text/plain": [
       "[5, 4, 9, 6, 3, 5, 2]"
      ]
     },
     "execution_count": 22,
     "metadata": {},
     "output_type": "execute_result"
    }
   ],
   "source": [
    "array1"
   ]
  },
  {
   "cell_type": "markdown",
   "id": "343b61a6-d2d1-4063-aefe-cf048729619d",
   "metadata": {},
   "source": [
    "### Time Complexity: `O(n)`\n",
    "- going through half the array does not impact Big O time "
   ]
  },
  {
   "cell_type": "markdown",
   "id": "95365e35-963e-4214-992b-b093b80cb75c",
   "metadata": {},
   "source": [
    "---\n",
    "### Example 7: Equivalent to `O(n)`?\n",
    "---"
   ]
  },
  {
   "cell_type": "markdown",
   "id": "751d529e-bb80-47af-b9ba-d11d38545e73",
   "metadata": {},
   "source": [
    "#### **YES**\n",
    "- `O(N + P)` where `P < (N/2)`\n",
    "    - `N` = dominant term \n",
    "    - drop the O(P) \n",
    "- `O(2N)`\n",
    "    - drop constants (aka. `2`)\n",
    "- `O(N + Log N)`\n",
    "    - `O(N)` dominates `O(Log N)` -> thus we can drop `O(Log N)`\n",
    "\n",
    "#### **NO**\n",
    "- `O(N + M)`\n",
    "    - `N` and `M` are not related thus they both have to stay"
   ]
  },
  {
   "cell_type": "markdown",
   "id": "11d26583-dd1b-4d0c-bf39-402fbc40de23",
   "metadata": {},
   "source": [
    "---\n",
    "### Example 8: \n",
    "##### **Input:** Array of Strings \n",
    "##### **Algorithm:** sort each string and then sort the full array \n",
    "##### **Output:** sorted array of sorted strings\n",
    "---"
   ]
  },
  {
   "cell_type": "markdown",
   "id": "5820e853-2f39-4441-b45e-78d6c7dacc62",
   "metadata": {},
   "source": [
    "### Sorting Each Individual String: `O(s log s)`\n",
    "- `s` = length of longest string \n",
    "\n",
    "### Sorting Each String in the Array: `O(a*s log s)`\n",
    "- `a` = length of the array \n",
    "\n",
    "### Sort Strings in the Array `O(a*s log a)`\n",
    "- `O(s)` for each comparison \n",
    "- `O(a log a)` comparisons \n",
    "\n",
    "## Final: `O(a * s (log a + log s))`"
   ]
  },
  {
   "cell_type": "markdown",
   "id": "734f5870-352c-42cb-b44e-11d1b4352696",
   "metadata": {},
   "source": [
    "---\n",
    "### Example 9: Sum of all node values in a balanced binary search tree\n",
    "---"
   ]
  },
  {
   "cell_type": "markdown",
   "id": "e071538f-ba0f-4fb6-a35a-8dde95cafdec",
   "metadata": {},
   "source": [
    "- Code touches each node in the tree\n",
    "- `O(1)` work for each node -> *excluding recursive calls*\n",
    "- `O(n)` Linear Runtime in terms of number of nodes `n`\n",
    "- Recursive Function with Multiple Branches:\n",
    "    - runtime typically `O(branchesᴰᴱᴾᵀᴴ)`\n",
    "    - Two branches at each call, runtime: `O(2ᴰᴱᴾᵀᴴ)`4\n",
    "    - Exponential Time Algo? No!\n",
    "        - `depth` of binary search tree with `n` nodes is `log n`\n",
    "        - gives us `2ᴸºᴳ ᴺ`\n",
    "        - There is a relationship between `2` and `log`\n",
    "            - `P = 2ᴸºᴳ ᴺ` which means that `P = N`\n",
    "            - `log₂P = log₂N`\n",
    "            - `P = N`\n",
    "            - ``2ᴸºᴳ ᴺ = N`\n",
    "\n",
    "#### Runtime: `O(n)`\n",
    "- `n` = number of nodes "
   ]
  },
  {
   "cell_type": "markdown",
   "id": "d710bbb2-0c10-422b-a612-5c947f7e6049",
   "metadata": {},
   "source": [
    "---\n",
    "### Example 10: Check if a number is prime by checking for divisibility on numbers less than it \n",
    "---\n",
    "- only needs to go up to the square root of `n`\n",
    "    - if `n` is divisible by a number greater than its square root \n",
    "        - then it is divisible by something smaller than it \n",
    "    - `33` is divisible by `11` -> greater than square root of `33`\n",
    "        - counterpart to `11` is `3`\n",
    "            - already have been eliminated as a prime number by `3`\n",
    "- How many iterations the for loop will go through in the worst case \n",
    "    - starts with `x = 2`\n",
    "    - stops when `x = √n` or `x * x = n` "
   ]
  },
  {
   "cell_type": "code",
   "execution_count": 23,
   "id": "03190d1c-af67-41f7-aaef-30ed5d25b2b8",
   "metadata": {},
   "outputs": [],
   "source": [
    "import math"
   ]
  },
  {
   "cell_type": "code",
   "execution_count": 24,
   "id": "dc1b5c37-5b2b-4088-994f-728f43f249e9",
   "metadata": {},
   "outputs": [],
   "source": [
    "def isPrime(n: int) -> bool:\n",
    "    \n",
    "    x = 2\n",
    "    # while x*x <= n:\n",
    "    while x <= math.sqrt(n):\n",
    "        x += 1\n",
    "        if n%x == 0:\n",
    "            return False\n",
    "    return True "
   ]
  },
  {
   "cell_type": "code",
   "execution_count": 25,
   "id": "36bfe882-ce2c-4f48-8eff-6f2270b963ff",
   "metadata": {},
   "outputs": [
    {
     "data": {
      "text/plain": [
       "True"
      ]
     },
     "execution_count": 25,
     "metadata": {},
     "output_type": "execute_result"
    }
   ],
   "source": [
    "isPrime(31)"
   ]
  },
  {
   "cell_type": "code",
   "execution_count": 26,
   "id": "dbc4cead-0e52-49c3-841b-28aa03d88eed",
   "metadata": {},
   "outputs": [
    {
     "data": {
      "text/plain": [
       "False"
      ]
     },
     "execution_count": 26,
     "metadata": {},
     "output_type": "execute_result"
    }
   ],
   "source": [
    "isPrime(33)"
   ]
  },
  {
   "cell_type": "markdown",
   "id": "d7d097d9-5983-4338-b009-a37db4444acf",
   "metadata": {},
   "source": [
    "#### Time Complexity: `O(√n)`"
   ]
  },
  {
   "cell_type": "markdown",
   "id": "256854ab-8303-49a4-9914-3baee4a9ae62",
   "metadata": {},
   "source": [
    "---\n",
    "### Example 11: What is the time complexity for code that computes `n!` (n factorial)?\n",
    "---\n",
    "- factiorial = n! = n * (n-1) * (n-2) * (n-3).....\n",
    "- 5 factorial = 5! = 5 * 4 * 3 * 2 * 1 = 5 * 24 = 120 "
   ]
  },
  {
   "cell_type": "code",
   "execution_count": 13,
   "id": "87c13257-912b-48d1-ac05-c826e4e1172c",
   "metadata": {},
   "outputs": [],
   "source": [
    "def facty_iteration(n):\n",
    "    factorial = 1\n",
    "    for i in range(1,n+1):\n",
    "        factorial = factorial * i \n",
    "    return factorial"
   ]
  },
  {
   "cell_type": "code",
   "execution_count": 14,
   "id": "b5b214f9-8676-4e68-961f-ffff3c7e7d96",
   "metadata": {},
   "outputs": [],
   "source": [
    "def facty_recursion(n):\n",
    "    if n < 0:\n",
    "        return -1 \n",
    "    elif n == 0:\n",
    "        return 1\n",
    "    else: \n",
    "        fact = n*facty(n-1)\n",
    "        return fact"
   ]
  },
  {
   "cell_type": "code",
   "execution_count": 16,
   "id": "23265939-b778-48cc-b241-19d0c2765048",
   "metadata": {},
   "outputs": [
    {
     "name": "stdout",
     "output_type": "stream",
     "text": [
      "The Factorial of 23 via Iteration is 25852016738884976640000\n",
      "The Factorial of 23 via Recursion is 25852016738884976640000\n"
     ]
    }
   ],
   "source": [
    "n = 23\n",
    "\n",
    "print('The Factorial of {} via Iteration is {}'.format(n,facty_iteration(n)))\n",
    "print('The Factorial of {} via Recursion is {}'.format(n,facty_recursion(n)))"
   ]
  },
  {
   "cell_type": "markdown",
   "id": "f5f84dfa-07ce-4d1b-8243-b18a4a9f9c01",
   "metadata": {},
   "source": [
    "##### Time Complexity: for both iteration and recursion `O(n)`\n",
    "- both go straight down along `n` to reach conclusion "
   ]
  },
  {
   "cell_type": "markdown",
   "id": "0b1c6724-d026-48ae-9e34-740cbcaa89e4",
   "metadata": {},
   "source": [
    "---\n",
    "### Example 12: Print Permutations of a String with All Distinct Characters \n",
    "---"
   ]
  },
  {
   "cell_type": "code",
   "execution_count": 37,
   "id": "10f7f89b-3a34-403c-8281-951783843ce3",
   "metadata": {},
   "outputs": [],
   "source": [
    "string = 'ABCD'"
   ]
  },
  {
   "cell_type": "code",
   "execution_count": 38,
   "id": "6f4c947f-a635-4aff-bb6c-613624dd5cd6",
   "metadata": {},
   "outputs": [],
   "source": [
    "# Backtracking Recursion Algorithm \n",
    "def permuations(string):\n",
    "    right = len(string)-1\n",
    "    left = 0\n",
    "    array = list(string)\n",
    "    \n",
    "    def toStr(list):\n",
    "        return ''.join(list) \n",
    "    \n",
    "    def permute(array, left, right):\n",
    "        if left == right:\n",
    "            print(toStr(array)) # takes O(n) time since each character must be printed \n",
    "            #print(array)\n",
    "        else:\n",
    "            for i in range(left, right+1):\n",
    "                array[left], array[i] = array[i], array[left]\n",
    "                permute(array, left + 1, right) #O(n) combined with above row due to string concatenation \n",
    "                \n",
    "                #backtrack\n",
    "                array[left],array[i] = array[i], array[left]\n",
    "                \n",
    "    permute(array,left,right)"
   ]
  },
  {
   "cell_type": "code",
   "execution_count": 39,
   "id": "c25304da-7b96-4a64-b4e6-37615d331339",
   "metadata": {
    "scrolled": true,
    "tags": []
   },
   "outputs": [
    {
     "name": "stdout",
     "output_type": "stream",
     "text": [
      "ABCD\n",
      "ABDC\n",
      "ACBD\n",
      "ACDB\n",
      "ADCB\n",
      "ADBC\n",
      "BACD\n",
      "BADC\n",
      "BCAD\n",
      "BCDA\n",
      "BDCA\n",
      "BDAC\n",
      "CBAD\n",
      "CBDA\n",
      "CABD\n",
      "CADB\n",
      "CDAB\n",
      "CDBA\n",
      "DBCA\n",
      "DBAC\n",
      "DCBA\n",
      "DCAB\n",
      "DACB\n",
      "DABC\n"
     ]
    }
   ],
   "source": [
    "permuations(string)"
   ]
  },
  {
   "cell_type": "markdown",
   "id": "23d69077-2e6c-4f5a-89ad-98113d5deb78",
   "metadata": {},
   "source": [
    "- each node in the call tree does `O(n)` work \n",
    "- Recursion Tree: \n",
    "\n",
    "> ABCD\n",
    ">> 1. A\n",
    "\n",
    ">>> 2. AB\n",
    "\n",
    ">>>> 3. ABC\n",
    "\n",
    ">>>>> 4. ABCD\n",
    "\n",
    ">>>> 3. ABD\n",
    "\n",
    ">>>>> 4. ABDC\n",
    "\n",
    ">>> 2. AC\n",
    "\n",
    ">>>> 3. ACB\n",
    "\n",
    ">>>>> 4. ACBD\n",
    "\n",
    ">>>> 3. ACD\n",
    "\n",
    ">>>>> 4. ACDB\n",
    "\n",
    ">>> 2. AD\n",
    "\n",
    ">>>> 3. ADB\n",
    "\n",
    ">>>>> 4. ADBC\n",
    "\n",
    ">>>> 3. ADC\n",
    "\n",
    ">>>>> 4. ADCB\n",
    "\n",
    ">> 1. B\n",
    "\n",
    ">>> 2. BA...\n",
    "\n",
    ">>> 2. BC...\n",
    "\n",
    ">>> 2. BD...\n",
    "\n",
    ">> 1. C...\n",
    "\n",
    ">> 1. D..."
   ]
  },
  {
   "cell_type": "markdown",
   "id": "bfad3fd7-9450-4bea-b963-60137cc6a01e",
   "metadata": {},
   "source": [
    "- how many leaf nodes:\n",
    "    - branch 4x at level 1\n",
    "    - branch 3x at level 2\n",
    "    - branch 2x at level 3\n",
    "    - branch 1x at level 4\n",
    "    - or `n!` permutations \n",
    "- how many total nodes are there:\n",
    "    - each leaf node is attached to a path with `n` nodes \n",
    "    - at most there are `n * n!` total nodes "
   ]
  },
  {
   "cell_type": "markdown",
   "id": "9b03bb88-f06d-4377-82ba-14e65bd7ebd0",
   "metadata": {},
   "source": [
    "##### Time Complexity: At Worst* is `O(n * n * n!)` or `O((n+2)!)` \n",
    "- via Euler's Number: \n",
    "    - Gets down to root of how many nodes we actually have \n",
    "    - Number of nodes in the tree is less than `e * n!` thus the constant drops out leaving us with just `n!`\n",
    "    - There are `n!` permutations and it takes `O(n)` time to print a permutation -> `O(n * n!)` or `O((n+1)!)`"
   ]
  },
  {
   "cell_type": "code",
   "execution_count": null,
   "id": "b7f2329b-b948-4993-b9db-35c1030d1e3a",
   "metadata": {},
   "outputs": [],
   "source": []
  }
 ],
 "metadata": {
  "kernelspec": {
   "display_name": "Python 3",
   "language": "python",
   "name": "python3"
  },
  "language_info": {
   "codemirror_mode": {
    "name": "ipython",
    "version": 3
   },
   "file_extension": ".py",
   "mimetype": "text/x-python",
   "name": "python",
   "nbconvert_exporter": "python",
   "pygments_lexer": "ipython3",
   "version": "3.8.8"
  }
 },
 "nbformat": 4,
 "nbformat_minor": 5
}
