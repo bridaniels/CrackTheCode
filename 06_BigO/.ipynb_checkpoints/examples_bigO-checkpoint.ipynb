{
 "cells": [
  {
   "cell_type": "markdown",
   "id": "a890c3ec-2222-4dba-9cc9-edb5fee08731",
   "metadata": {},
   "source": [
    "# Big O"
   ]
  },
  {
   "cell_type": "markdown",
   "id": "8b8548d2-eba0-4d1b-8c56-0d87e8ae3fd8",
   "metadata": {},
   "source": [
    "---\n",
    "### Binary Search: O(log N) Runtime\n",
    "- looking for x in N-element sorted array\n",
    "- first compare x to midpoint then move outward left/right depending on value of x\n",
    "---"
   ]
  },
  {
   "cell_type": "code",
   "execution_count": 1,
   "id": "54274bed-014b-4b5c-9ca1-4ab0ad740b4f",
   "metadata": {},
   "outputs": [],
   "source": [
    "array = [1,5,8,9,11,13,15,19,21]\n",
    "x = 9"
   ]
  },
  {
   "cell_type": "code",
   "execution_count": 37,
   "id": "f2336f51-ad08-45fd-8851-5050223dd07d",
   "metadata": {},
   "outputs": [],
   "source": [
    "def binaryRecursive(array,low,high,x):\n",
    "    \n",
    "    if high >= low:\n",
    "        \n",
    "        mid = (high+low)//2\n",
    "        \n",
    "        if array[mid] == x:\n",
    "            return mid\n",
    "        \n",
    "        elif array[mid] > x:\n",
    "            return binaryRecursive(array,low,mid-1,x)\n",
    "        \n",
    "        else:\n",
    "            return binaryRecursive(array,mid+1,high,x)\n",
    "        \n",
    "    else:\n",
    "        return -1"
   ]
  },
  {
   "cell_type": "code",
   "execution_count": 39,
   "id": "ddaab00c-cc66-4d07-ac9b-e56719b04223",
   "metadata": {},
   "outputs": [
    {
     "name": "stdout",
     "output_type": "stream",
     "text": [
      "Index of 9 in array: [1, 5, 8, 9, 11, 13, 15, 19, 21] is 3\n"
     ]
    }
   ],
   "source": [
    "x_index = binaryRecursive(array,0,len(array),x)\n",
    "\n",
    "print(f\"Index of {x} in array: {array} is {x_index}\")"
   ]
  },
  {
   "cell_type": "markdown",
   "id": "1f3e6d5e-4b15-4aab-bd31-5a5ec7c3321b",
   "metadata": {},
   "source": [
    "- number of elements in the problem space get halved each time = O(log n) runtime \n",
    "- space complexity = O(n)\n",
    "    - have O(2ᴺ) nodes in the full recursive tree \n",
    "    - only O(n) exist at any given time "
   ]
  },
  {
   "cell_type": "markdown",
   "id": "4c68484f-d301-4335-960c-5adabd6a4d1f",
   "metadata": {},
   "source": [
    "---\n",
    "### Example 1: Two Loops\n",
    "---"
   ]
  },
  {
   "cell_type": "code",
   "execution_count": 1,
   "id": "6213c4dd-88db-4989-ba15-b4a1470c73ff",
   "metadata": {},
   "outputs": [],
   "source": [
    "array = [1,5,8,9,11,13,15,19,21]\n",
    "x = 9"
   ]
  },
  {
   "cell_type": "code",
   "execution_count": 4,
   "id": "008402af-1315-4a02-aeb6-0b8981992975",
   "metadata": {},
   "outputs": [],
   "source": [
    "def doubleLoop(array,x):\n",
    "    k = x - 1\n",
    "    for i in array:\n",
    "        if i == x:\n",
    "            print(f\"HOORAY\")\n",
    "    for j in array:\n",
    "        if j == k:\n",
    "            print(f\"YEEEE\")"
   ]
  },
  {
   "cell_type": "code",
   "execution_count": 5,
   "id": "b84d3f78-7c3c-4a67-a617-0f69bc5e6e58",
   "metadata": {},
   "outputs": [
    {
     "name": "stdout",
     "output_type": "stream",
     "text": [
      "HOORAY\n",
      "YEEEE\n"
     ]
    }
   ],
   "source": [
    "doubleLoop(array,x)"
   ]
  },
  {
   "cell_type": "markdown",
   "id": "32e512ad-8137-4706-8500-4a5f26210c11",
   "metadata": {},
   "source": [
    "#### O(N) time:\n",
    "- iterating through twice does not matter\n",
    "- chunk of work in first loop + chunk of work in second loop\n",
    "- More specifically would be O(2N), but for Big O notation we drop constants which leaves us with O(N)"
   ]
  },
  {
   "cell_type": "markdown",
   "id": "2ee719d4-0b68-45ef-9ece-35e0379211bf",
   "metadata": {},
   "source": [
    "---\n",
    "### Example 2: Nested Loops\n",
    "---"
   ]
  },
  {
   "cell_type": "code",
   "execution_count": 21,
   "id": "5a07fcfb-a931-424c-82f7-b0072e6bec27",
   "metadata": {},
   "outputs": [],
   "source": [
    "array1 = [2,5,3,6,9,4,5]\n",
    "array2 = [6,8,7,4,4,2,1]"
   ]
  },
  {
   "cell_type": "code",
   "execution_count": 38,
   "id": "23ead941-abfe-4e35-b649-0c96f62507c0",
   "metadata": {},
   "outputs": [],
   "source": [
    "def nestedLoop(array1,array2):\n",
    "    for i in range(len(array1)):\n",
    "        for j in range(len(array2)):\n",
    "            if array1[i] == array2[j]:\n",
    "                return True\n",
    "    return False            "
   ]
  },
  {
   "cell_type": "code",
   "execution_count": 39,
   "id": "86723314-4ced-4db4-9297-ca26a326819f",
   "metadata": {},
   "outputs": [
    {
     "data": {
      "text/plain": [
       "True"
      ]
     },
     "execution_count": 39,
     "metadata": {},
     "output_type": "execute_result"
    }
   ],
   "source": [
    "nestedLoop(array1,array2)"
   ]
  },
  {
   "cell_type": "markdown",
   "id": "70f53ae3-e431-430f-919a-91af70832465",
   "metadata": {},
   "source": [
    "#### O(N²)\n",
    "- inner loop has O(N) iterations\n",
    "- outerloop calls inner loop N times \n",
    "- Checking ALL PAIRS - O(N²) pairs"
   ]
  },
  {
   "cell_type": "markdown",
   "id": "f6a5d166-4a99-486e-bba5-6dd9d74c3524",
   "metadata": {},
   "source": [
    "---\n",
    "### Example 3: Nested Loops -> Inner Loop starting at i + 1\n",
    "---"
   ]
  },
  {
   "cell_type": "code",
   "execution_count": 40,
   "id": "2656a207-845d-4df6-a398-b2f075223ee2",
   "metadata": {},
   "outputs": [],
   "source": [
    "array = [2,5,3,4,9,4,5]"
   ]
  },
  {
   "cell_type": "code",
   "execution_count": 48,
   "id": "6b157b2c-4cb4-4b9d-aa04-96b65ce6c33c",
   "metadata": {},
   "outputs": [],
   "source": [
    "def nChooseTwo(array):\n",
    "    for i in range(len(array)):\n",
    "        for j in range(i+1,len(array)):\n",
    "            if array[i] == array[j]:\n",
    "                print(\"matchy\")\n",
    "            else:\n",
    "                print(\"womp womp\")\n",
    "    "
   ]
  },
  {
   "cell_type": "code",
   "execution_count": 49,
   "id": "907aef17-1bc3-4604-b1f4-7c614f722cb7",
   "metadata": {},
   "outputs": [
    {
     "name": "stdout",
     "output_type": "stream",
     "text": [
      "womp womp\n",
      "womp womp\n",
      "womp womp\n",
      "womp womp\n",
      "womp womp\n",
      "womp womp\n",
      "womp womp\n",
      "womp womp\n",
      "womp womp\n",
      "womp womp\n",
      "matchy\n",
      "womp womp\n",
      "womp womp\n",
      "womp womp\n",
      "womp womp\n",
      "womp womp\n",
      "matchy\n",
      "womp womp\n",
      "womp womp\n",
      "womp womp\n",
      "womp womp\n"
     ]
    }
   ],
   "source": [
    "nChooseTwo(array)"
   ]
  },
  {
   "cell_type": "markdown",
   "id": "88bb0be0-41f8-4ed1-b121-2828045bc9ec",
   "metadata": {},
   "source": [
    "#### O(N²)\n",
    "- Outer loop runs N times\n",
    "- Inner Loop runs N/2 times\n",
    "    - first j runs through N-1 steps, second N-2, third N-3....\n",
    "        - Sum of 1 through N-1 = ((N(N-2))/2)\n",
    "    - iterates through each pair of values where i<j\n",
    "    - N² total pairs and roughly half will follow i<j\n",
    "        - goes through roughly (N²)/2 pairs -> thus O(N²) \n",
    "        - Half of a NxN matrix \n",
    "- Total Work = O((N²)/2) -> Simplified down to O(N²)\n",
    "\n",
    "   "
   ]
  },
  {
   "cell_type": "code",
   "execution_count": null,
   "id": "d81f628d-373e-4148-b946-119314f43597",
   "metadata": {},
   "outputs": [],
   "source": []
  }
 ],
 "metadata": {
  "kernelspec": {
   "display_name": "Python 3",
   "language": "python",
   "name": "python3"
  },
  "language_info": {
   "codemirror_mode": {
    "name": "ipython",
    "version": 3
   },
   "file_extension": ".py",
   "mimetype": "text/x-python",
   "name": "python",
   "nbconvert_exporter": "python",
   "pygments_lexer": "ipython3",
   "version": "3.8.8"
  }
 },
 "nbformat": 4,
 "nbformat_minor": 5
}
