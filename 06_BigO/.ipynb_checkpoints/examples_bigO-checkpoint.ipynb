{
 "cells": [
  {
   "cell_type": "markdown",
   "id": "42a374b3-1386-4e55-9e96-d36bd236c22b",
   "metadata": {},
   "source": [
    "# Big 0 \n",
    "- language and metric used to describe the efficiency of algorithms \n",
    "- describes rate of increase in runtime/space"
   ]
  },
  {
   "cell_type": "markdown",
   "id": "35d79d72-dda7-487f-82a5-17a0cff01f23",
   "metadata": {},
   "source": [
    "---\n",
    "### O(Big O): an upper bound on time -> typically refer to Big O\n",
    "### Ω(Big Omega): lower bound on time \n",
    "### Θ(Big Theta): Θ means both O and Ω -> tight bound on runtime\n",
    "---"
   ]
  },
  {
   "cell_type": "markdown",
   "id": "f6d0b1b3-c657-4294-acd9-f8f56dc3623c",
   "metadata": {},
   "source": [
    "### Drop non-dominant terms and constants:\n",
    "- O(N² + N) becomes O(N²)\n",
    "- O(N + log N) becomes O(N)\n",
    "- O(5*2ᴺ + 100N¹⁰⁰) becomes O(2ᴺ)\n",
    "---"
   ]
  },
  {
   "cell_type": "markdown",
   "id": "e53615dc-6975-4611-bcb0-e992347c97e4",
   "metadata": {},
   "source": [
    "### Adding VS. Multiplying w/ Multipart Algorithms\n",
    "- two distinct loops: addition\n",
    "    - one chunk of work happens, then the next chunk of work happens\n",
    "    - do this, then do that\n",
    "- two nested loops: multiplication\n",
    "    - do second chunk of work for each element in first chunk of work \n",
    "    - do this every time you do that \n",
    "--- "
   ]
  },
  {
   "cell_type": "markdown",
   "id": "a8ee6576-745f-4114-ba45-308114f6147e",
   "metadata": {},
   "source": [
    "### Amortized Time\n",
    "- ArrayList is a dynamically resizing array \n",
    "    - benefits of an array while offering size flexibility \n",
    "    - implemented within an array \n",
    "    - array hits capacity, the ArrayList class will create a new array with double the capcity and copy elements over into the new array \n",
    "- Full array with N elements\n",
    "    - adding a new element = O(N) time \n",
    "    - having to create a new array of size 2N + copy N elements over \n",
    "- Majority of adding in O(1) time\n",
    "    - 1+2+4+8+16+32+.... adding elements and doubling capcity \n",
    "    - array size power of 2 \n",
    "    - after x elements, array size doubles in capcity \n",
    "    - going backwards... x + x/2 + x/4 + x/8 +.... = 2x\n",
    "- X adds take O(X) time -> amortized time for each addition to the array = O(1)\n",
    "---"
   ]
  },
  {
   "cell_type": "code",
   "execution_count": null,
   "id": "bdf966eb-913f-4310-a6ce-d20a65a178cd",
   "metadata": {},
   "outputs": [],
   "source": []
  }
 ],
 "metadata": {
  "kernelspec": {
   "display_name": "Python 3",
   "language": "python",
   "name": "python3"
  },
  "language_info": {
   "codemirror_mode": {
    "name": "ipython",
    "version": 3
   },
   "file_extension": ".py",
   "mimetype": "text/x-python",
   "name": "python",
   "nbconvert_exporter": "python",
   "pygments_lexer": "ipython3",
   "version": "3.8.8"
  }
 },
 "nbformat": 4,
 "nbformat_minor": 5
}
