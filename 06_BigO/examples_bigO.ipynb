{
 "cells": [
  {
   "cell_type": "markdown",
   "id": "a890c3ec-2222-4dba-9cc9-edb5fee08731",
   "metadata": {},
   "source": [
    "---\n",
    "# Big O\n",
    "---"
   ]
  },
  {
   "cell_type": "markdown",
   "id": "8b8548d2-eba0-4d1b-8c56-0d87e8ae3fd8",
   "metadata": {},
   "source": [
    "#### Binary Search: O(log N) Runtime\n",
    "- looking for x in N-element sorted array\n",
    "- first compare x to midpoint then move outward left/right depending on value of x"
   ]
  },
  {
   "cell_type": "code",
   "execution_count": 1,
   "id": "54274bed-014b-4b5c-9ca1-4ab0ad740b4f",
   "metadata": {},
   "outputs": [],
   "source": [
    "array = [1,5,8,9,11,13,15,19,21]\n",
    "x = 9"
   ]
  },
  {
   "cell_type": "code",
   "execution_count": 37,
   "id": "f2336f51-ad08-45fd-8851-5050223dd07d",
   "metadata": {},
   "outputs": [],
   "source": [
    "def binaryRecursive(array,low,high,x):\n",
    "    \n",
    "    if high >= low:\n",
    "        \n",
    "        mid = (high+low)//2\n",
    "        \n",
    "        if array[mid] == x:\n",
    "            return mid\n",
    "        \n",
    "        elif array[mid] > x:\n",
    "            return binaryRecursive(array,low,mid-1,x)\n",
    "        \n",
    "        else:\n",
    "            return binaryRecursive(array,mid+1,high,x)\n",
    "        \n",
    "    else:\n",
    "        return -1"
   ]
  },
  {
   "cell_type": "code",
   "execution_count": 39,
   "id": "ddaab00c-cc66-4d07-ac9b-e56719b04223",
   "metadata": {},
   "outputs": [
    {
     "name": "stdout",
     "output_type": "stream",
     "text": [
      "Index of 9 in array: [1, 5, 8, 9, 11, 13, 15, 19, 21] is 3\n"
     ]
    }
   ],
   "source": [
    "x_index = binaryRecursive(array,0,len(array),x)\n",
    "\n",
    "print(f\"Index of {x} in array: {array} is {x_index}\")"
   ]
  },
  {
   "cell_type": "markdown",
   "id": "1f3e6d5e-4b15-4aab-bd31-5a5ec7c3321b",
   "metadata": {},
   "source": [
    "- number of elements in the problem space get halved each time = O(log n) runtime \n",
    "- space complexity = O(n)\n",
    "    - have O(2ᴺ) nodes in the full recursive tree \n",
    "    - only O(n) exist at any given time "
   ]
  },
  {
   "cell_type": "code",
   "execution_count": null,
   "id": "6ae9fa40-ab3e-4488-be1d-43c726dace4a",
   "metadata": {},
   "outputs": [],
   "source": []
  }
 ],
 "metadata": {
  "kernelspec": {
   "display_name": "Python 3",
   "language": "python",
   "name": "python3"
  },
  "language_info": {
   "codemirror_mode": {
    "name": "ipython",
    "version": 3
   },
   "file_extension": ".py",
   "mimetype": "text/x-python",
   "name": "python",
   "nbconvert_exporter": "python",
   "pygments_lexer": "ipython3",
   "version": "3.8.8"
  }
 },
 "nbformat": 4,
 "nbformat_minor": 5
}
