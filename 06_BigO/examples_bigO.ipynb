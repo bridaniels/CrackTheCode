{
 "cells": [
  {
   "cell_type": "markdown",
   "id": "a890c3ec-2222-4dba-9cc9-edb5fee08731",
   "metadata": {},
   "source": [
    "# Big O"
   ]
  },
  {
   "cell_type": "markdown",
   "id": "8b8548d2-eba0-4d1b-8c56-0d87e8ae3fd8",
   "metadata": {},
   "source": [
    "---\n",
    "### Binary Search: O(log N) Runtime\n",
    "- looking for x in N-element sorted array\n",
    "- first compare x to midpoint then move outward left/right depending on value of x\n",
    "---"
   ]
  },
  {
   "cell_type": "code",
   "execution_count": null,
   "id": "54274bed-014b-4b5c-9ca1-4ab0ad740b4f",
   "metadata": {},
   "outputs": [],
   "source": [
    "array = [1,5,8,9,11,13,15,19,21]\n",
    "x = 9"
   ]
  },
  {
   "cell_type": "code",
   "execution_count": null,
   "id": "f2336f51-ad08-45fd-8851-5050223dd07d",
   "metadata": {},
   "outputs": [],
   "source": [
    "def binaryRecursive(array,low,high,x):\n",
    "    \n",
    "    if high >= low:\n",
    "        \n",
    "        mid = (high+low)//2\n",
    "        \n",
    "        if array[mid] == x:\n",
    "            return mid\n",
    "        \n",
    "        elif array[mid] > x:\n",
    "            return binaryRecursive(array,low,mid-1,x)\n",
    "        \n",
    "        else:\n",
    "            return binaryRecursive(array,mid+1,high,x)\n",
    "        \n",
    "    else:\n",
    "        return -1"
   ]
  },
  {
   "cell_type": "code",
   "execution_count": null,
   "id": "ddaab00c-cc66-4d07-ac9b-e56719b04223",
   "metadata": {},
   "outputs": [],
   "source": [
    "x_index = binaryRecursive(array,0,len(array),x)\n",
    "\n",
    "print(f\"Index of {x} in array: {array} is {x_index}\")"
   ]
  },
  {
   "cell_type": "markdown",
   "id": "1f3e6d5e-4b15-4aab-bd31-5a5ec7c3321b",
   "metadata": {},
   "source": [
    "- number of elements in the problem space get halved each time = O(log n) runtime \n",
    "- space complexity = O(n)\n",
    "    - have O(2ᴺ) nodes in the full recursive tree \n",
    "    - only O(n) exist at any given time "
   ]
  },
  {
   "cell_type": "markdown",
   "id": "4c68484f-d301-4335-960c-5adabd6a4d1f",
   "metadata": {},
   "source": [
    "---\n",
    "### Example 1: Two Loops\n",
    "---"
   ]
  },
  {
   "cell_type": "code",
   "execution_count": null,
   "id": "6213c4dd-88db-4989-ba15-b4a1470c73ff",
   "metadata": {},
   "outputs": [],
   "source": [
    "array = [1,5,8,9,11,13,15,19,21]\n",
    "x = 9"
   ]
  },
  {
   "cell_type": "code",
   "execution_count": null,
   "id": "008402af-1315-4a02-aeb6-0b8981992975",
   "metadata": {},
   "outputs": [],
   "source": [
    "def doubleLoop(array,x):\n",
    "    k = x - 1\n",
    "    for i in array:\n",
    "        if i == x:\n",
    "            print(f\"HOORAY\")\n",
    "    for j in array:\n",
    "        if j == k:\n",
    "            print(f\"YEEEE\")"
   ]
  },
  {
   "cell_type": "code",
   "execution_count": null,
   "id": "b84d3f78-7c3c-4a67-a617-0f69bc5e6e58",
   "metadata": {},
   "outputs": [],
   "source": [
    "doubleLoop(array,x)"
   ]
  },
  {
   "cell_type": "markdown",
   "id": "32e512ad-8137-4706-8500-4a5f26210c11",
   "metadata": {},
   "source": [
    "#### O(N) time:\n",
    "- iterating through twice does not matter\n",
    "- chunk of work in first loop + chunk of work in second loop\n",
    "- More specifically would be O(2N), but for Big O notation we drop constants which leaves us with O(N)"
   ]
  },
  {
   "cell_type": "markdown",
   "id": "2ee719d4-0b68-45ef-9ece-35e0379211bf",
   "metadata": {},
   "source": [
    "---\n",
    "### Example 2: Nested Loops\n",
    "---"
   ]
  },
  {
   "cell_type": "code",
   "execution_count": null,
   "id": "5a07fcfb-a931-424c-82f7-b0072e6bec27",
   "metadata": {},
   "outputs": [],
   "source": [
    "array1 = [2,5,3,6,9,4,5]"
   ]
  },
  {
   "cell_type": "code",
   "execution_count": null,
   "id": "23ead941-abfe-4e35-b649-0c96f62507c0",
   "metadata": {},
   "outputs": [],
   "source": [
    "def nestedLoop(array1):\n",
    "    for i in range(len(array1)):\n",
    "        for j in range(len(array1)):\n",
    "            if array1[i] == array1[j]:\n",
    "                return True\n",
    "    return False            "
   ]
  },
  {
   "cell_type": "code",
   "execution_count": null,
   "id": "86723314-4ced-4db4-9297-ca26a326819f",
   "metadata": {},
   "outputs": [],
   "source": [
    "nestedLoop(array1)"
   ]
  },
  {
   "cell_type": "markdown",
   "id": "70f53ae3-e431-430f-919a-91af70832465",
   "metadata": {},
   "source": [
    "#### O(N²)\n",
    "- inner loop has O(N) iterations\n",
    "- outerloop calls inner loop N times \n",
    "- Checking ALL PAIRS - O(N²) pairs"
   ]
  },
  {
   "cell_type": "markdown",
   "id": "f6a5d166-4a99-486e-bba5-6dd9d74c3524",
   "metadata": {},
   "source": [
    "---\n",
    "### Example 3: Nested Loops -> Inner Loop starting at i + 1\n",
    "---"
   ]
  },
  {
   "cell_type": "code",
   "execution_count": null,
   "id": "2656a207-845d-4df6-a398-b2f075223ee2",
   "metadata": {},
   "outputs": [],
   "source": [
    "array = [2,5,3,4,9,4,5]"
   ]
  },
  {
   "cell_type": "code",
   "execution_count": null,
   "id": "6b157b2c-4cb4-4b9d-aa04-96b65ce6c33c",
   "metadata": {},
   "outputs": [],
   "source": [
    "def nChooseTwo(array):\n",
    "    for i in range(len(array)):\n",
    "        for j in range(i+1,len(array)):\n",
    "            if array[i] == array[j]:\n",
    "                print(\"matchy\")\n",
    "            else:\n",
    "                print(\"womp womp\")\n",
    "    "
   ]
  },
  {
   "cell_type": "code",
   "execution_count": null,
   "id": "907aef17-1bc3-4604-b1f4-7c614f722cb7",
   "metadata": {},
   "outputs": [],
   "source": [
    "nChooseTwo(array)"
   ]
  },
  {
   "cell_type": "markdown",
   "id": "88bb0be0-41f8-4ed1-b121-2828045bc9ec",
   "metadata": {},
   "source": [
    "#### O(N²)\n",
    "- Outer loop runs N times\n",
    "- Inner Loop runs N/2 times\n",
    "    - first j runs through N-1 steps, second N-2, third N-3....\n",
    "        - Sum of 1 through N-1 = ((N(N-2))/2)\n",
    "    - iterates through each pair of values where i<j\n",
    "    - N² total pairs and roughly half will follow i<j\n",
    "        - goes through roughly (N²)/2 pairs -> thus O(N²) \n",
    "        - Half of a NxN matrix \n",
    "- Total Work = O((N²)/2) -> Simplified down to O(N²)\n",
    "\n",
    "   "
   ]
  },
  {
   "cell_type": "markdown",
   "id": "375023f2-e200-49dc-b6b5-6e11519b1d60",
   "metadata": {},
   "source": [
    "---\n",
    "### Example 4: Nested Loops, Two Arrays\n",
    "---"
   ]
  },
  {
   "cell_type": "code",
   "execution_count": null,
   "id": "8566423d-1089-4901-8cbb-3345bc327af0",
   "metadata": {},
   "outputs": [],
   "source": [
    "array1 = [2,5,3,6,9,4,5]\n",
    "array2 = [6,8,7,4,4,2,1]"
   ]
  },
  {
   "cell_type": "code",
   "execution_count": null,
   "id": "67a1e486-b51a-4640-9df1-b65567fc716c",
   "metadata": {},
   "outputs": [],
   "source": [
    "def printUnorderedPais(arr1,arr2):\n",
    "    \n",
    "    i = j = 0 \n",
    "    for i in range(len(arr1)):\n",
    "        for j in range(len(arr2)):\n",
    "            if arr1[i] < arr2[j]: # 0(1) work due to constant time statment \n",
    "                print(f\"{arr1[i]}, {arr2[j]}\")"
   ]
  },
  {
   "cell_type": "code",
   "execution_count": null,
   "id": "2d5b0e0a-7ef5-43fd-bec8-01734e3d26a3",
   "metadata": {},
   "outputs": [],
   "source": [
    "printUnorderedPais(array1,array2)"
   ]
  },
  {
   "cell_type": "markdown",
   "id": "366fb432-af71-488d-8214-a2d0e78ea801",
   "metadata": {},
   "source": [
    "### Time Complexity: `O(ab)`\n",
    "- `a` = length of array1\n",
    "- `b` = length of array2\n",
    "- for each element in array1, the inner loop goes through `b` iterations "
   ]
  },
  {
   "cell_type": "markdown",
   "id": "54a070c9-2149-4f99-98db-d01ee6193ec9",
   "metadata": {},
   "source": [
    "---\n",
    "### Example 5: Nested Loop, 2 Arrays + Constant Value Loop\n",
    "---"
   ]
  },
  {
   "cell_type": "code",
   "execution_count": null,
   "id": "6ab9ccee-fe65-4d37-868d-cfb04555a04e",
   "metadata": {},
   "outputs": [],
   "source": [
    "array1 = [2,5,3,6,9,4,5]\n",
    "array2 = [6,8,7,4,4,2,1]"
   ]
  },
  {
   "cell_type": "code",
   "execution_count": null,
   "id": "580e1313-110b-4c51-99b3-6436f9a4a86e",
   "metadata": {},
   "outputs": [],
   "source": [
    "def pUnorderedPairs(arr1,arr2):\n",
    "    for i in range(len(arr1)):\n",
    "        for j in range(len(arr2)):\n",
    "            for k in range(100000):\n",
    "                print(f\"{arr1[i]}, {arr2[j]}\")"
   ]
  },
  {
   "cell_type": "code",
   "execution_count": null,
   "id": "ddea07b0-89d1-4d8c-b95c-bbad19f16ac5",
   "metadata": {
    "scrolled": true,
    "tags": []
   },
   "outputs": [],
   "source": [
    "# prints out 100,000 of each pair \n",
    "\n",
    "# pUnorderedPairs(array1,array2)"
   ]
  },
  {
   "cell_type": "markdown",
   "id": "9960701a-45ff-40d0-8f0f-e7e1faadc322",
   "metadata": {},
   "source": [
    "### Time Complexity: `O(ab)` *still*\n",
    "- 100,000 units of work is still a constant "
   ]
  },
  {
   "cell_type": "markdown",
   "id": "34ad7f41-d7a7-410e-9458-01a48aed721c",
   "metadata": {},
   "source": [
    "---\n",
    "### Example 6: Reverse Array\n",
    "---"
   ]
  },
  {
   "cell_type": "code",
   "execution_count": 12,
   "id": "b7f404ff-7fa8-430e-ae9a-c5a4845e7fbd",
   "metadata": {},
   "outputs": [],
   "source": [
    "array1 = [2,5,3,6,9,4,5]"
   ]
  },
  {
   "cell_type": "code",
   "execution_count": 13,
   "id": "d9b55a9a-af56-47b6-a578-3a652f96b0ac",
   "metadata": {},
   "outputs": [],
   "source": [
    "def reverse_array(arr1):\n",
    "    for i in range(len(arr1)//2):\n",
    "        other = len(arr1) - i - 1\n",
    "        temp = arr1[i]\n",
    "        arr1[i] = arr1[other]\n",
    "        arr1[other] = temp"
   ]
  },
  {
   "cell_type": "code",
   "execution_count": 14,
   "id": "28de32ea-948e-497a-85b8-bc46c333ea71",
   "metadata": {},
   "outputs": [],
   "source": [
    "reverse_array(array1)"
   ]
  },
  {
   "cell_type": "code",
   "execution_count": 15,
   "id": "279802dd-46cb-44f2-865e-98263c320eb5",
   "metadata": {},
   "outputs": [
    {
     "data": {
      "text/plain": [
       "[5, 4, 9, 6, 3, 5, 2]"
      ]
     },
     "execution_count": 15,
     "metadata": {},
     "output_type": "execute_result"
    }
   ],
   "source": [
    "array1"
   ]
  },
  {
   "cell_type": "markdown",
   "id": "343b61a6-d2d1-4063-aefe-cf048729619d",
   "metadata": {},
   "source": [
    "### Time Complexity: `O(n)`\n",
    "- going through half the array does not impact Big O time "
   ]
  },
  {
   "cell_type": "markdown",
   "id": "95365e35-963e-4214-992b-b093b80cb75c",
   "metadata": {},
   "source": [
    "---\n",
    "### Example 7: Equivalent to `O(n)`?\n",
    "---"
   ]
  },
  {
   "cell_type": "markdown",
   "id": "751d529e-bb80-47af-b9ba-d11d38545e73",
   "metadata": {},
   "source": [
    "#### **YES**\n",
    "- `O(N + P)` where `P < (N/2)`\n",
    "    - `N` = dominant term \n",
    "    - drop the O(P) \n",
    "- `O(2N)`\n",
    "    - drop constants (aka. `2`)\n",
    "- `O(N + Log N)`\n",
    "    - `O(N)` dominates `O(Log N)` -> thus we can drop `O(Log N)`\n",
    "\n",
    "#### **NO**\n",
    "- `O(N + M)`\n",
    "    - `N` and `M` are not related thus they both have to stay"
   ]
  },
  {
   "cell_type": "code",
   "execution_count": null,
   "id": "5dacc39d-f5eb-4a62-90bd-fc5868704bcb",
   "metadata": {},
   "outputs": [],
   "source": []
  }
 ],
 "metadata": {
  "kernelspec": {
   "display_name": "Python 3",
   "language": "python",
   "name": "python3"
  },
  "language_info": {
   "codemirror_mode": {
    "name": "ipython",
    "version": 3
   },
   "file_extension": ".py",
   "mimetype": "text/x-python",
   "name": "python",
   "nbconvert_exporter": "python",
   "pygments_lexer": "ipython3",
   "version": "3.8.8"
  }
 },
 "nbformat": 4,
 "nbformat_minor": 5
}
