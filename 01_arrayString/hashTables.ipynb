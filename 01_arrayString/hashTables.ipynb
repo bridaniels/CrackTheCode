{
 "cells": [
  {
   "cell_type": "markdown",
   "id": "35c29bb8-faba-4ada-8b81-891e0a0f6857",
   "metadata": {},
   "source": [
    "# Chapter 1: Arrays and Strings"
   ]
  },
  {
   "cell_type": "markdown",
   "id": "9900f7ee-aa5c-4858-ad0a-a81c722787c1",
   "metadata": {},
   "source": [
    "## **Hash Tables**\n",
    "---"
   ]
  },
  {
   "cell_type": "markdown",
   "id": "5c01ed9c-fa31-41e3-b5e0-4291e557be7d",
   "metadata": {},
   "source": [
    "- data structure that maps keys to values\n",
    "- highly efficent lookup \n",
    "- Simple Implementation: array of linked lists and a hash code function \n",
    "    - first: compute hash code \n",
    "        - two different keys with the same hash code -> collision \n",
    "    - next: map the hash code to an index in the array \n",
    "        - ex: `hash(key) % len(arr)`\n",
    "        - two hash codes can map to the same index\n",
    "    - finally: store key and value in the index \n",
    "        - at the index there will be a linked list of keys and values \n",
    "        - use a linked list due to collisions \n",
    "        - you can have two keys with the same cash code \n",
    "            - or two hash codes that map to the same index \n",
    "- Retrieve `(key,value)` pair via key:\n",
    "    - repeat the above process to compute the hash code \n",
    "    - then compute the index from the hash coxde \n",
    "    - finally search through the linked list for value with the key \n",
    "- Time Complexity:\n",
    "    - with lots of collisions: `O(n)`\n",
    "    - few collisions: `O(1)`\n",
    "- Implement a lookup system with balanced BST(binary search tree) \n",
    "    - `O(log n)` lookup time \n",
    "    - potentially less space\n",
    "    - iterate through the keys in order which can also be useful "
   ]
  },
  {
   "cell_type": "markdown",
   "id": "77cf8b5a-2fd6-4cc5-b1c9-711cc8af9158",
   "metadata": {},
   "source": [
    "# **ArrayList and Resizable Arrays**\n",
    "---"
   ]
  },
  {
   "cell_type": "markdown",
   "id": "ba72fda6-5f95-4b3c-91aa-517c078adf82",
   "metadata": {},
   "source": [
    "- Array: \n",
    "    - data structure of the same element type \n",
    "- Dynamically Resizable Arrays\n",
    "    - dynamic: dynamiclly modified during runtime \n",
    "    - Don't resize too often -> not factored into time complexity \n",
    "    - once beyond the capacity of the array \n",
    "    - creates new larger array and copies elements over \n",
    "    - `O(n)` time complexity\n",
    "- Often write values in from the back for better time complexity\n",
    "- instead of deleting an entry -> consider overwriting "
   ]
  },
  {
   "cell_type": "markdown",
   "id": "2834189d-91e6-4ee7-be96-2768cd947685",
   "metadata": {},
   "source": [
    "# **StringBuilder**\n",
    "---\n",
    "- String: \n",
    "    - collection of characters in python \n",
    "    - an immutable objects \n",
    "    - allocate new memory for every string \n",
    "- StringBuilder:\n",
    "    - collection of strings\n",
    "    - mutable\n",
    "    - added with an existing string \n",
    "    - Pythonic StringBuilder:\n",
    "        - `.join()` function\n",
    "            - `string.join(iterable)`\n",
    "        - string concatenation\n",
    "        - `.append()`\n",
    "        - string IO module "
   ]
  },
  {
   "cell_type": "markdown",
   "id": "3d04031e-7a8a-47bb-acd1-4c7a0c90bf21",
   "metadata": {},
   "source": [
    "#### `string.join(iterable)`"
   ]
  },
  {
   "cell_type": "code",
   "execution_count": 1,
   "id": "ced9a163-c0c5-49da-86c5-5e890b0d1e47",
   "metadata": {},
   "outputs": [
    {
     "name": "stdout",
     "output_type": "stream",
     "text": [
      "apple banana strawberry\n",
      "apple>banana>strawberry\n"
     ]
    }
   ],
   "source": [
    "a = ['apple','banana','strawberry']\n",
    "print(' '.join(a))\n",
    "print('>'.join(a))"
   ]
  },
  {
   "cell_type": "code",
   "execution_count": 2,
   "id": "f155bd14-4988-4178-a809-18b9959ed479",
   "metadata": {},
   "outputs": [
    {
     "name": "stdout",
     "output_type": "stream",
     "text": [
      "apple banana strawberry\n",
      "apple banana strawberry\n",
      "apple banana strawberry\n"
     ]
    }
   ],
   "source": [
    "for i in range(len(a)):\n",
    "    print(' '.join(a))"
   ]
  },
  {
   "cell_type": "markdown",
   "id": "49a6fff3-7a30-46fa-9b6b-53d7472b2be9",
   "metadata": {},
   "source": [
    "#### String Concatenation"
   ]
  },
  {
   "cell_type": "code",
   "execution_count": 3,
   "id": "9eda9b8a-677a-4bf6-a398-245c9eca64cf",
   "metadata": {},
   "outputs": [
    {
     "name": "stdout",
     "output_type": "stream",
     "text": [
      "bobby bonanza\n"
     ]
    }
   ],
   "source": [
    "a1 = 'bobby'\n",
    "a2 = 'bonanza'\n",
    "print(a1 + ' ' + a2)"
   ]
  },
  {
   "cell_type": "markdown",
   "id": "3ebfcd53-46f4-44c8-9f12-14661358b6b9",
   "metadata": {},
   "source": [
    "#### `.append()` built in function `+=`"
   ]
  },
  {
   "cell_type": "code",
   "execution_count": 4,
   "id": "2ab59534-a9de-4a6a-9dfa-7766b11b8ba4",
   "metadata": {},
   "outputs": [
    {
     "name": "stdout",
     "output_type": "stream",
     "text": [
      "karen kowalski\n"
     ]
    }
   ],
   "source": [
    "b = 'karen'\n",
    "b += ' '\n",
    "b += 'kowalski'\n",
    "print(b)"
   ]
  },
  {
   "cell_type": "markdown",
   "id": "7b3c57c8-0e48-4f4f-a341-c2cdfc91ad84",
   "metadata": {},
   "source": [
    "#### String IO Module"
   ]
  },
  {
   "cell_type": "code",
   "execution_count": 5,
   "id": "f7739bf2-df69-4648-858b-342f9126be3c",
   "metadata": {},
   "outputs": [],
   "source": [
    "from io import StringIO"
   ]
  },
  {
   "cell_type": "code",
   "execution_count": 6,
   "id": "a4e552bb-be08-430e-9971-f9d824100c8d",
   "metadata": {},
   "outputs": [
    {
     "name": "stdout",
     "output_type": "stream",
     "text": [
      "Hi, do you have pancakes?\n"
     ]
    }
   ],
   "source": [
    "s = ['Hi, ','do ','you ','have ','pancakes','?']\n",
    "\n",
    "string = StringIO()\n",
    "for i in s:\n",
    "    string.write(i)\n",
    "print(string.getvalue())"
   ]
  },
  {
   "cell_type": "code",
   "execution_count": 7,
   "id": "4bc188bb-c8c2-401f-b78b-12ba74c827e2",
   "metadata": {},
   "outputs": [],
   "source": [
    "class StringBuilder:\n",
    "    string = None\n",
    "    def __init__(self):\n",
    "        self.string = StringIO()\n",
    "    \n",
    "    def add(self,str):\n",
    "        self.string.write(str)\n",
    "    \n",
    "    def __str__(self):\n",
    "        return self.string.getvalue()"
   ]
  },
  {
   "cell_type": "code",
   "execution_count": 8,
   "id": "6ea944f3-798c-497f-a157-58f5cd7e29f0",
   "metadata": {},
   "outputs": [
    {
     "name": "stdin",
     "output_type": "stream",
     "text": [
      "Enter your name:  bobby\n"
     ]
    },
    {
     "name": "stdout",
     "output_type": "stream",
     "text": [
      "Welcome Mr/Ms/Mrs. bobby\n"
     ]
    }
   ],
   "source": [
    "x = input(\"Enter your name: \")\n",
    "sb = StringBuilder()\n",
    "sb.add('Welcome ')\n",
    "sb.add('Mr/Ms/Mrs. ')\n",
    "sb.add(x)\n",
    "print(sb)"
   ]
  },
  {
   "cell_type": "code",
   "execution_count": null,
   "id": "5a79bf44-11d6-444c-acdf-e52d9c5754e0",
   "metadata": {},
   "outputs": [],
   "source": []
  }
 ],
 "metadata": {
  "kernelspec": {
   "display_name": "Python 3",
   "language": "python",
   "name": "python3"
  },
  "language_info": {
   "codemirror_mode": {
    "name": "ipython",
    "version": 3
   },
   "file_extension": ".py",
   "mimetype": "text/x-python",
   "name": "python",
   "nbconvert_exporter": "python",
   "pygments_lexer": "ipython3",
   "version": "3.8.8"
  }
 },
 "nbformat": 4,
 "nbformat_minor": 5
}
